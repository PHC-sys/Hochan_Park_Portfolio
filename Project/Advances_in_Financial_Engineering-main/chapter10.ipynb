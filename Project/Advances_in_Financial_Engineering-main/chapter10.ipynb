{
  "nbformat": 4,
  "nbformat_minor": 0,
  "metadata": {
    "colab": {
      "provenance": [],
      "authorship_tag": "ABX9TyMVUS6Pjlxztboh2eH0TdfQ",
      "include_colab_link": true
    },
    "kernelspec": {
      "name": "python3",
      "display_name": "Python 3"
    },
    "language_info": {
      "name": "python"
    }
  },
  "cells": [
    {
      "cell_type": "markdown",
      "metadata": {
        "id": "view-in-github",
        "colab_type": "text"
      },
      "source": [
        "<a href=\"https://colab.research.google.com/github/2020147544/Advances_in_Financial_Engineering/blob/main/chapter10.ipynb\" target=\"_parent\"><img src=\"https://colab.research.google.com/assets/colab-badge.svg\" alt=\"Open In Colab\"/></a>"
      ]
    },
    {
      "cell_type": "markdown",
      "source": [
        "### Bet Sizing"
      ],
      "metadata": {
        "id": "MEC_pd6gaAf9"
      }
    },
    {
      "cell_type": "code",
      "source": [
        "# necessary modules\n",
        "from past.builtins import xrange\n",
        "import pandas as pd\n",
        "from scipy.stats import norm"
      ],
      "metadata": {
        "id": "2i10pgAee6pb"
      },
      "execution_count": 42,
      "outputs": []
    },
    {
      "cell_type": "code",
      "source": [
        "def mpAvgActiveSignals(signals,molecule):\n",
        "  '''\n",
        "  At time loc, average signal among those still active.\n",
        "  Signal is active if:\n",
        "  a) issued before or at loc AND\n",
        "  b) loc before signal's endtime, or endtime is still unknown (NaT).\n",
        "  '''\n",
        "  out=pd.Series()\n",
        "\n",
        "  for loc in molecule:\n",
        "    df0 = (signals.index.values<=loc)&((loc<signals['t1'])|pd.isnull(signals['t1']))\n",
        "    act = signals[df0].index\n",
        "    if len(act) > 0:\n",
        "      out[loc]=signals.loc[act,'signal'].mean()\n",
        "    else:\n",
        "      out[loc] = 0 # no signals active at this time\n",
        "\n",
        "  return out"
      ],
      "metadata": {
        "id": "ZCfAqUHpit-H"
      },
      "execution_count": 43,
      "outputs": []
    },
    {
      "cell_type": "code",
      "source": [
        "def avgActiveSignals(signals,numThreads):\n",
        "  # compute the average signal among those active\n",
        "  #1) time points where signals change (either one starts or one ends)\n",
        "  tPnts = set(signals['t1'].dropna().values)\n",
        "  tPnts = tPnts.union(signals.index.values)\n",
        "  tPnts = list(tPnts);tPnts.sort()\n",
        "  out = mpPandasObj(mpAvgActiveSignals,('molecule',tPnts),numThreads,signals=signals)\n",
        "  return out"
      ],
      "metadata": {
        "id": "xK3IEgvhiAv1"
      },
      "execution_count": 44,
      "outputs": []
    },
    {
      "cell_type": "code",
      "source": [
        "def discreteSignal(signal0,stepSize):\n",
        "  # discretize signal\n",
        "  signal1 = (signal0/stepSize).round()*stepSize # discretize\n",
        "  signal1[signal1 > 1] = 1 # cap\n",
        "  signal1[signal1 < -1] = -1 # floor\n",
        "  \n",
        "  return signal1"
      ],
      "metadata": {
        "id": "0QmUYqbijIbs"
      },
      "execution_count": 45,
      "outputs": []
    },
    {
      "cell_type": "code",
      "source": [
        "def getSignal(events, stepSize, prob, pred, numClasses, numThreads, **kargs):\n",
        "  # get signals from predictions\n",
        "  if prob.shape[0] == 0:\n",
        "    return pd.Series()\n",
        "\n",
        "  #1) generate signals from multinomial classification (one-vs-rest, OvR)\n",
        "  signal0 = (prob-1./numClasses)/(prob*(1.-prob))**.5 # t-value of OvR\n",
        "  signal0 = pred*(2*norm.cdf(signal0)-1) # signal=side*size\n",
        "  if 'side' in events:\n",
        "    signal0*=events.loc[signal0.index,'side'] # meta-labeling\n",
        "  \n",
        "  #2) compute average signal among those concurrently open\n",
        "  df0 = signal0.to_frame('signal').join(events[['t1']],how='left')\n",
        "  df0 = avgActiveSignals(df0,numThreads)\n",
        "  signal1=discreteSignal(signal0=df0,stepSize=stepSize)\n",
        "  return signal1"
      ],
      "metadata": {
        "id": "0i7X1EJLhvzL"
      },
      "execution_count": 46,
      "outputs": []
    },
    {
      "cell_type": "code",
      "source": [
        "def betSize(w,x):\n",
        "  return x*(w+x**2)**-.5\n",
        "\n",
        "def getTPos(w,f,mP,maxPos):\n",
        "  return int(betSize(w,f-mP)*maxPos)\n",
        "\n",
        "def invPrice(f,w,m):\n",
        "  return f-m*(w/(1-m**2))**.5\n",
        "\n",
        "def limitPrice(tPos,pos,f,w,maxPos):\n",
        "  sgn=(1 if tPos>=pos else -1)\n",
        "  lP=0\n",
        "  for j in xrange(abs(pos+sgn),abs(tPos+1)):\n",
        "    lP+=invPrice(f,w,j/float(maxPos))\n",
        "    lP/=tPos-pos\n",
        "  return lP\n",
        "\n",
        "def getW(x,m):\n",
        "  # 0<alpha<1\n",
        "  return x**2*(m**(-2)-1)\n",
        "\n",
        "# main\n",
        "\n",
        "def main():\n",
        "  pos,maxPos,mP,f,wParams=0,100,100,115,{'divergence':10,'m':.95}\n",
        "  w=getW(wParams['divergence'],wParams['m']) # calibrate w\n",
        "  tPos=getTPos(w,f,mP,maxPos) # get tPos\n",
        "  lP=limitPrice(tPos,pos,f,w,maxPos) # limit price for order\n",
        "  return\n",
        "\n",
        "\n",
        "if __name__=='__main__':main()"
      ],
      "metadata": {
        "id": "SJwmNF8DjYU2"
      },
      "execution_count": 47,
      "outputs": []
    }
  ]
}