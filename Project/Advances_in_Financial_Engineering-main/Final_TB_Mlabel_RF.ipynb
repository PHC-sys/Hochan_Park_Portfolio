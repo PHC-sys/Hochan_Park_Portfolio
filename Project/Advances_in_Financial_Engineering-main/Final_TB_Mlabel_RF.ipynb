{
  "cells": [
    {
      "cell_type": "markdown",
      "metadata": {
        "id": "view-in-github",
        "colab_type": "text"
      },
      "source": [
        "<a href=\"https://colab.research.google.com/github/2020147544/Advances_in_Financial_Engineering/blob/main/tb_mlabel_rf.ipynb\" target=\"_parent\"><img src=\"https://colab.research.google.com/assets/colab-badge.svg\" alt=\"Open In Colab\"/></a>"
      ]
    },
    {
      "cell_type": "code",
      "source": [
        "!pip install cprint"
      ],
      "metadata": {
        "colab": {
          "base_uri": "https://localhost:8080/"
        },
        "id": "RYyLPcGElhOD",
        "outputId": "c338f0a7-7444-450e-dbcf-53fe02683e54"
      },
      "execution_count": 2,
      "outputs": [
        {
          "output_type": "stream",
          "name": "stdout",
          "text": [
            "Looking in indexes: https://pypi.org/simple, https://us-python.pkg.dev/colab-wheels/public/simple/\n",
            "Collecting cprint\n",
            "  Downloading cprint-1.2.2.tar.gz (2.3 kB)\n",
            "  Preparing metadata (setup.py) ... \u001b[?25l\u001b[?25hdone\n",
            "Building wheels for collected packages: cprint\n",
            "  Building wheel for cprint (setup.py) ... \u001b[?25l\u001b[?25hdone\n",
            "  Created wheel for cprint: filename=cprint-1.2.2-py3-none-any.whl size=2519 sha256=6656927022d8fecd10766deefac7ba3a4a9f51bd0cfed37dae6d19a3531b042b\n",
            "  Stored in directory: /root/.cache/pip/wheels/e8/c7/77/b74864ee8de3abb693e3be291549a29c6ff242ce66801b1622\n",
            "Successfully built cprint\n",
            "Installing collected packages: cprint\n",
            "Successfully installed cprint-1.2.2\n"
          ]
        }
      ]
    },
    {
      "cell_type": "code",
      "execution_count": 3,
      "metadata": {
        "id": "QGfKNhldlX6b"
      },
      "outputs": [],
      "source": [
        "#Import and Settings\n",
        "import numpy as np, pandas as pd, matplotlib.pyplot as plt, seaborn as sns\n",
        "from collections import deque\n",
        "from itertools import accumulate\n",
        "from cprint import *\n",
        "import bisect\n",
        "import warnings\n",
        "\n",
        "plt.rcParams['figure.figsize'] = 17,9\n",
        "sns.set_style('whitegrid')\n",
        "warnings.filterwarnings('ignore')"
      ]
    },
    {
      "cell_type": "code",
      "source": [
        "from google.colab import drive\n",
        "drive.mount('/content/drive')"
      ],
      "metadata": {
        "colab": {
          "base_uri": "https://localhost:8080/"
        },
        "id": "Bv3-QEY8lauL",
        "outputId": "3b699442-df15-4f69-c4e4-5db78ee77fa9"
      },
      "execution_count": 4,
      "outputs": [
        {
          "output_type": "stream",
          "name": "stdout",
          "text": [
            "Mounted at /content/drive\n"
          ]
        }
      ]
    },
    {
      "cell_type": "code",
      "execution_count": 5,
      "metadata": {
        "id": "z9HEq9valX6g"
      },
      "outputs": [],
      "source": [
        "# 0. 데이터\n",
        "kq150_data = pd.read_csv(r'/content/drive/MyDrive/KQ150.csv',index_col=0)\n",
        "# kq150_dollar = pd.read_csv(r'Kp200F_volume_bars_500.csv',index_col=0)\n",
        "kq150_data.index = pd.to_datetime(kq150_data.index)\n",
        "# kq150_dollar.index = pd.to_datetime(kq150_dollar.index)"
      ]
    },
    {
      "cell_type": "code",
      "execution_count": 6,
      "metadata": {
        "colab": {
          "base_uri": "https://localhost:8080/"
        },
        "id": "js7w1mRqlX6h",
        "outputId": "011a9040-7301-4e3a-8c4a-0333748edd6d"
      },
      "outputs": [
        {
          "output_type": "execute_result",
          "data": {
            "text/plain": [
              "DatetimeIndex(['2016-01-04 10:00:00', '2016-01-04 10:01:00',\n",
              "               '2016-01-04 10:02:00', '2016-01-04 10:03:00',\n",
              "               '2016-01-04 10:04:00', '2016-01-04 10:05:00',\n",
              "               '2016-01-04 10:06:00', '2016-01-04 10:07:00',\n",
              "               '2016-01-04 10:09:00', '2016-01-04 10:11:00',\n",
              "               ...\n",
              "               '2023-04-25 15:26:00', '2023-04-25 15:27:00',\n",
              "               '2023-04-25 15:28:00', '2023-04-25 15:29:00',\n",
              "               '2023-04-25 15:30:00', '2023-04-25 15:31:00',\n",
              "               '2023-04-25 15:32:00', '2023-04-25 15:33:00',\n",
              "               '2023-04-25 15:34:00', '2023-04-25 15:45:00'],\n",
              "              dtype='datetime64[ns]', name='Date-Time', length=654558, freq=None)"
            ]
          },
          "metadata": {},
          "execution_count": 6
        }
      ],
      "source": [
        "kq150_data.index"
      ]
    },
    {
      "cell_type": "code",
      "execution_count": 7,
      "metadata": {
        "id": "jHTmqvcRlX6i"
      },
      "outputs": [],
      "source": [
        "# 1. 파킨슨 변동성\n",
        "def parkinson_volatility(df, n):\n",
        "    data_scope = deque()\n",
        "    date = df.index\n",
        "    parkinson_vol_lst = []\n",
        "    for i in range(len(df)):\n",
        "        data_scope.append(df.iloc[i, :])\n",
        "        if len(data_scope) > n:\n",
        "            data_scope.popleft()\n",
        "\n",
        "        parkinson_vol = np.sqrt(\n",
        "            sum(np.log(pd.DataFrame(data_scope)['High'].values / pd.DataFrame(data_scope)['Low'].values) ** 2) / (\n",
        "                        4 * np.log(2) * n))\n",
        "        parkinson_vol_lst.append(parkinson_vol)\n",
        "    \n",
        "    parkinson_vol_df = pd.DataFrame(data=parkinson_vol_lst, index=date, columns=['parksinson_vol'])\n",
        "    return parkinson_vol_df"
      ]
    },
    {
      "cell_type": "code",
      "execution_count": 8,
      "metadata": {
        "id": "sLXpVREalX6j"
      },
      "outputs": [],
      "source": [
        "def getDailyVol(close,span0=100):\n",
        "    '''\n",
        "    daily vol, reindexed to close\n",
        "    - used to set default profit taking and stop-loss limits\n",
        "    '''\n",
        "    df0=close.index.searchsorted(close.index-pd.Timedelta(days=1))\n",
        "    df0=df0[df0>0]\n",
        "    df0=pd.Series(close.index[df0-1], index=close.index[close.shape[0]-df0.shape[0]:])\n",
        "    df0=close.loc[df0.index]/close.loc[df0.values].values-1 # daily returns\n",
        "    df0=df0.ewm(span=span0).std()\n",
        "    return df0\n"
      ]
    },
    {
      "cell_type": "code",
      "execution_count": 9,
      "metadata": {
        "colab": {
          "base_uri": "https://localhost:8080/"
        },
        "id": "jpwYqWj4lX6k",
        "outputId": "58bd9341-7647-49ea-9569-37b0432aabbc"
      },
      "outputs": [
        {
          "output_type": "execute_result",
          "data": {
            "text/plain": [
              "(                     parksinson_vol\n",
              " Date-Time                          \n",
              " 2016-01-04 10:00:00        0.000348\n",
              " 2016-01-04 10:01:00        0.000389\n",
              " 2016-01-04 10:02:00        0.000389\n",
              " 2016-01-04 10:03:00        0.000389\n",
              " 2016-01-04 10:04:00        0.000391\n",
              " ...                             ...\n",
              " 2023-04-25 15:31:00        0.000610\n",
              " 2023-04-25 15:32:00        0.000603\n",
              " 2023-04-25 15:33:00        0.000599\n",
              " 2023-04-25 15:34:00        0.000625\n",
              " 2023-04-25 15:45:00        0.000575\n",
              " \n",
              " [654558 rows x 1 columns],\n",
              " parksinson_vol    0.000505\n",
              " dtype: float64)"
            ]
          },
          "metadata": {},
          "execution_count": 9
        }
      ],
      "source": [
        "parkinson_vol = parkinson_volatility(kq150_data,10)\n",
        "parkinson_vol, parkinson_vol.mean()"
      ]
    },
    {
      "cell_type": "code",
      "source": [
        "entrance_exit_in = pd.read_csv(r'/content/drive/MyDrive/entrance_exit_in.csv',index_col=0)"
      ],
      "metadata": {
        "id": "bDdxBkn7DNU6"
      },
      "execution_count": 76,
      "outputs": []
    },
    {
      "cell_type": "code",
      "source": [
        "entrance = pd.to_datetime(entrance_exit_in['Entrance'])\n",
        "entrance = pd.to_datetime(entrance.values)\n",
        "exit_ = pd.to_datetime(entrance_exit_in['Clearing'])\n",
        "exit_ = pd.to_datetime(exit_.values)"
      ],
      "metadata": {
        "id": "7GENpuZoDeyU"
      },
      "execution_count": 102,
      "outputs": []
    },
    {
      "cell_type": "code",
      "source": [
        "entrance"
      ],
      "metadata": {
        "colab": {
          "base_uri": "https://localhost:8080/"
        },
        "id": "VG7lc_-PHGOA",
        "outputId": "23c90451-f0f9-4c19-be94-1a9274527a96"
      },
      "execution_count": 103,
      "outputs": [
        {
          "output_type": "execute_result",
          "data": {
            "text/plain": [
              "DatetimeIndex(['2018-01-03 14:07:00', '2018-01-03 14:53:00',\n",
              "               '2018-01-04 09:20:00', '2018-01-04 11:12:00',\n",
              "               '2018-01-04 15:19:00', '2018-01-05 10:14:00',\n",
              "               '2018-01-05 13:31:00', '2018-01-08 13:39:00',\n",
              "               '2018-01-09 09:59:00', '2018-01-09 11:41:00',\n",
              "               ...\n",
              "               '2021-11-03 11:11:00', '2021-11-04 10:34:00',\n",
              "               '2021-11-05 10:12:00', '2021-11-08 09:37:00',\n",
              "               '2021-11-08 10:03:00', '2021-11-09 09:28:00',\n",
              "               '2021-11-09 10:10:00', '2021-11-10 10:15:00',\n",
              "               '2021-11-11 10:02:00', '2021-11-11 10:23:00'],\n",
              "              dtype='datetime64[ns]', length=1398, freq=None)"
            ]
          },
          "metadata": {},
          "execution_count": 103
        }
      ]
    },
    {
      "cell_type": "code",
      "source": [
        "exit_"
      ],
      "metadata": {
        "colab": {
          "base_uri": "https://localhost:8080/"
        },
        "id": "xP9W5VYRK5FG",
        "outputId": "f9fbaf82-1e4e-4c53-d3ae-c392bd30b549"
      },
      "execution_count": 104,
      "outputs": [
        {
          "output_type": "execute_result",
          "data": {
            "text/plain": [
              "DatetimeIndex(['2018-01-03 14:10:00', '2018-01-03 14:56:00',\n",
              "               '2018-01-04 09:23:00', '2018-01-04 11:15:00',\n",
              "               '2018-01-04 15:22:00', '2018-01-05 10:17:00',\n",
              "               '2018-01-05 13:34:00', '2018-01-08 13:41:00',\n",
              "               '2018-01-09 10:02:00', '2018-01-09 11:44:00',\n",
              "               ...\n",
              "               '2021-11-03 11:14:00', '2021-11-04 10:37:00',\n",
              "               '2021-11-05 10:15:00', '2021-11-08 09:40:00',\n",
              "               '2021-11-08 10:06:00', '2021-11-09 09:31:00',\n",
              "               '2021-11-09 10:13:00', '2021-11-10 10:18:00',\n",
              "               '2021-11-11 10:05:00', '2021-11-11 10:26:00'],\n",
              "              dtype='datetime64[ns]', length=1398, freq=None)"
            ]
          },
          "metadata": {},
          "execution_count": 104
        }
      ]
    },
    {
      "cell_type": "code",
      "source": [
        "kq150_data.head()"
      ],
      "metadata": {
        "colab": {
          "base_uri": "https://localhost:8080/",
          "height": 238
        },
        "id": "lBjk4Lc6Dq7y",
        "outputId": "56e9b413-22b2-49a8-a039-27fd4221d4c6"
      },
      "execution_count": 105,
      "outputs": [
        {
          "output_type": "execute_result",
          "data": {
            "text/plain": [
              "                       Open    High     Low   Close  side\n",
              "Date-Time                                                \n",
              "2016-01-04 10:00:00  1090.0  1092.0  1090.0  1092.0   NaN\n",
              "2016-01-04 10:01:00  1092.0  1093.0  1092.0  1093.0   NaN\n",
              "2016-01-04 10:02:00  1093.0  1093.0  1093.0  1093.0   NaN\n",
              "2016-01-04 10:03:00  1093.0  1093.0  1093.0  1093.0   NaN\n",
              "2016-01-04 10:04:00  1092.7  1092.7  1092.5  1092.5   NaN"
            ],
            "text/html": [
              "\n",
              "  <div id=\"df-73390c1d-4d1c-4b6d-80d1-f5b75d905381\">\n",
              "    <div class=\"colab-df-container\">\n",
              "      <div>\n",
              "<style scoped>\n",
              "    .dataframe tbody tr th:only-of-type {\n",
              "        vertical-align: middle;\n",
              "    }\n",
              "\n",
              "    .dataframe tbody tr th {\n",
              "        vertical-align: top;\n",
              "    }\n",
              "\n",
              "    .dataframe thead th {\n",
              "        text-align: right;\n",
              "    }\n",
              "</style>\n",
              "<table border=\"1\" class=\"dataframe\">\n",
              "  <thead>\n",
              "    <tr style=\"text-align: right;\">\n",
              "      <th></th>\n",
              "      <th>Open</th>\n",
              "      <th>High</th>\n",
              "      <th>Low</th>\n",
              "      <th>Close</th>\n",
              "      <th>side</th>\n",
              "    </tr>\n",
              "    <tr>\n",
              "      <th>Date-Time</th>\n",
              "      <th></th>\n",
              "      <th></th>\n",
              "      <th></th>\n",
              "      <th></th>\n",
              "      <th></th>\n",
              "    </tr>\n",
              "  </thead>\n",
              "  <tbody>\n",
              "    <tr>\n",
              "      <th>2016-01-04 10:00:00</th>\n",
              "      <td>1090.0</td>\n",
              "      <td>1092.0</td>\n",
              "      <td>1090.0</td>\n",
              "      <td>1092.0</td>\n",
              "      <td>NaN</td>\n",
              "    </tr>\n",
              "    <tr>\n",
              "      <th>2016-01-04 10:01:00</th>\n",
              "      <td>1092.0</td>\n",
              "      <td>1093.0</td>\n",
              "      <td>1092.0</td>\n",
              "      <td>1093.0</td>\n",
              "      <td>NaN</td>\n",
              "    </tr>\n",
              "    <tr>\n",
              "      <th>2016-01-04 10:02:00</th>\n",
              "      <td>1093.0</td>\n",
              "      <td>1093.0</td>\n",
              "      <td>1093.0</td>\n",
              "      <td>1093.0</td>\n",
              "      <td>NaN</td>\n",
              "    </tr>\n",
              "    <tr>\n",
              "      <th>2016-01-04 10:03:00</th>\n",
              "      <td>1093.0</td>\n",
              "      <td>1093.0</td>\n",
              "      <td>1093.0</td>\n",
              "      <td>1093.0</td>\n",
              "      <td>NaN</td>\n",
              "    </tr>\n",
              "    <tr>\n",
              "      <th>2016-01-04 10:04:00</th>\n",
              "      <td>1092.7</td>\n",
              "      <td>1092.7</td>\n",
              "      <td>1092.5</td>\n",
              "      <td>1092.5</td>\n",
              "      <td>NaN</td>\n",
              "    </tr>\n",
              "  </tbody>\n",
              "</table>\n",
              "</div>\n",
              "      <button class=\"colab-df-convert\" onclick=\"convertToInteractive('df-73390c1d-4d1c-4b6d-80d1-f5b75d905381')\"\n",
              "              title=\"Convert this dataframe to an interactive table.\"\n",
              "              style=\"display:none;\">\n",
              "        \n",
              "  <svg xmlns=\"http://www.w3.org/2000/svg\" height=\"24px\"viewBox=\"0 0 24 24\"\n",
              "       width=\"24px\">\n",
              "    <path d=\"M0 0h24v24H0V0z\" fill=\"none\"/>\n",
              "    <path d=\"M18.56 5.44l.94 2.06.94-2.06 2.06-.94-2.06-.94-.94-2.06-.94 2.06-2.06.94zm-11 1L8.5 8.5l.94-2.06 2.06-.94-2.06-.94L8.5 2.5l-.94 2.06-2.06.94zm10 10l.94 2.06.94-2.06 2.06-.94-2.06-.94-.94-2.06-.94 2.06-2.06.94z\"/><path d=\"M17.41 7.96l-1.37-1.37c-.4-.4-.92-.59-1.43-.59-.52 0-1.04.2-1.43.59L10.3 9.45l-7.72 7.72c-.78.78-.78 2.05 0 2.83L4 21.41c.39.39.9.59 1.41.59.51 0 1.02-.2 1.41-.59l7.78-7.78 2.81-2.81c.8-.78.8-2.07 0-2.86zM5.41 20L4 18.59l7.72-7.72 1.47 1.35L5.41 20z\"/>\n",
              "  </svg>\n",
              "      </button>\n",
              "      \n",
              "  <style>\n",
              "    .colab-df-container {\n",
              "      display:flex;\n",
              "      flex-wrap:wrap;\n",
              "      gap: 12px;\n",
              "    }\n",
              "\n",
              "    .colab-df-convert {\n",
              "      background-color: #E8F0FE;\n",
              "      border: none;\n",
              "      border-radius: 50%;\n",
              "      cursor: pointer;\n",
              "      display: none;\n",
              "      fill: #1967D2;\n",
              "      height: 32px;\n",
              "      padding: 0 0 0 0;\n",
              "      width: 32px;\n",
              "    }\n",
              "\n",
              "    .colab-df-convert:hover {\n",
              "      background-color: #E2EBFA;\n",
              "      box-shadow: 0px 1px 2px rgba(60, 64, 67, 0.3), 0px 1px 3px 1px rgba(60, 64, 67, 0.15);\n",
              "      fill: #174EA6;\n",
              "    }\n",
              "\n",
              "    [theme=dark] .colab-df-convert {\n",
              "      background-color: #3B4455;\n",
              "      fill: #D2E3FC;\n",
              "    }\n",
              "\n",
              "    [theme=dark] .colab-df-convert:hover {\n",
              "      background-color: #434B5C;\n",
              "      box-shadow: 0px 1px 3px 1px rgba(0, 0, 0, 0.15);\n",
              "      filter: drop-shadow(0px 1px 2px rgba(0, 0, 0, 0.3));\n",
              "      fill: #FFFFFF;\n",
              "    }\n",
              "  </style>\n",
              "\n",
              "      <script>\n",
              "        const buttonEl =\n",
              "          document.querySelector('#df-73390c1d-4d1c-4b6d-80d1-f5b75d905381 button.colab-df-convert');\n",
              "        buttonEl.style.display =\n",
              "          google.colab.kernel.accessAllowed ? 'block' : 'none';\n",
              "\n",
              "        async function convertToInteractive(key) {\n",
              "          const element = document.querySelector('#df-73390c1d-4d1c-4b6d-80d1-f5b75d905381');\n",
              "          const dataTable =\n",
              "            await google.colab.kernel.invokeFunction('convertToInteractive',\n",
              "                                                     [key], {});\n",
              "          if (!dataTable) return;\n",
              "\n",
              "          const docLinkHtml = 'Like what you see? Visit the ' +\n",
              "            '<a target=\"_blank\" href=https://colab.research.google.com/notebooks/data_table.ipynb>data table notebook</a>'\n",
              "            + ' to learn more about interactive tables.';\n",
              "          element.innerHTML = '';\n",
              "          dataTable['output_type'] = 'display_data';\n",
              "          await google.colab.output.renderOutput(dataTable, element);\n",
              "          const docLink = document.createElement('div');\n",
              "          docLink.innerHTML = docLinkHtml;\n",
              "          element.appendChild(docLink);\n",
              "        }\n",
              "      </script>\n",
              "    </div>\n",
              "  </div>\n",
              "  "
            ]
          },
          "metadata": {},
          "execution_count": 105
        }
      ]
    },
    {
      "cell_type": "code",
      "source": [
        "kq150_data['side'] = np.NaN"
      ],
      "metadata": {
        "id": "e7xo4raWDq5s"
      },
      "execution_count": 106,
      "outputs": []
    },
    {
      "cell_type": "code",
      "source": [
        "kq150_data.head()"
      ],
      "metadata": {
        "colab": {
          "base_uri": "https://localhost:8080/",
          "height": 238
        },
        "id": "J71QjYeLKsEu",
        "outputId": "f0fd2aa9-0616-4c23-8847-8698b9a704a5"
      },
      "execution_count": 92,
      "outputs": [
        {
          "output_type": "execute_result",
          "data": {
            "text/plain": [
              "                       Open    High     Low   Close  side\n",
              "Date-Time                                                \n",
              "2016-01-04 10:00:00  1090.0  1092.0  1090.0  1092.0   NaN\n",
              "2016-01-04 10:01:00  1092.0  1093.0  1092.0  1093.0   NaN\n",
              "2016-01-04 10:02:00  1093.0  1093.0  1093.0  1093.0   NaN\n",
              "2016-01-04 10:03:00  1093.0  1093.0  1093.0  1093.0   NaN\n",
              "2016-01-04 10:04:00  1092.7  1092.7  1092.5  1092.5   NaN"
            ],
            "text/html": [
              "\n",
              "  <div id=\"df-dca99e75-9cd9-437d-8f87-a9cd649dec29\">\n",
              "    <div class=\"colab-df-container\">\n",
              "      <div>\n",
              "<style scoped>\n",
              "    .dataframe tbody tr th:only-of-type {\n",
              "        vertical-align: middle;\n",
              "    }\n",
              "\n",
              "    .dataframe tbody tr th {\n",
              "        vertical-align: top;\n",
              "    }\n",
              "\n",
              "    .dataframe thead th {\n",
              "        text-align: right;\n",
              "    }\n",
              "</style>\n",
              "<table border=\"1\" class=\"dataframe\">\n",
              "  <thead>\n",
              "    <tr style=\"text-align: right;\">\n",
              "      <th></th>\n",
              "      <th>Open</th>\n",
              "      <th>High</th>\n",
              "      <th>Low</th>\n",
              "      <th>Close</th>\n",
              "      <th>side</th>\n",
              "    </tr>\n",
              "    <tr>\n",
              "      <th>Date-Time</th>\n",
              "      <th></th>\n",
              "      <th></th>\n",
              "      <th></th>\n",
              "      <th></th>\n",
              "      <th></th>\n",
              "    </tr>\n",
              "  </thead>\n",
              "  <tbody>\n",
              "    <tr>\n",
              "      <th>2016-01-04 10:00:00</th>\n",
              "      <td>1090.0</td>\n",
              "      <td>1092.0</td>\n",
              "      <td>1090.0</td>\n",
              "      <td>1092.0</td>\n",
              "      <td>NaN</td>\n",
              "    </tr>\n",
              "    <tr>\n",
              "      <th>2016-01-04 10:01:00</th>\n",
              "      <td>1092.0</td>\n",
              "      <td>1093.0</td>\n",
              "      <td>1092.0</td>\n",
              "      <td>1093.0</td>\n",
              "      <td>NaN</td>\n",
              "    </tr>\n",
              "    <tr>\n",
              "      <th>2016-01-04 10:02:00</th>\n",
              "      <td>1093.0</td>\n",
              "      <td>1093.0</td>\n",
              "      <td>1093.0</td>\n",
              "      <td>1093.0</td>\n",
              "      <td>NaN</td>\n",
              "    </tr>\n",
              "    <tr>\n",
              "      <th>2016-01-04 10:03:00</th>\n",
              "      <td>1093.0</td>\n",
              "      <td>1093.0</td>\n",
              "      <td>1093.0</td>\n",
              "      <td>1093.0</td>\n",
              "      <td>NaN</td>\n",
              "    </tr>\n",
              "    <tr>\n",
              "      <th>2016-01-04 10:04:00</th>\n",
              "      <td>1092.7</td>\n",
              "      <td>1092.7</td>\n",
              "      <td>1092.5</td>\n",
              "      <td>1092.5</td>\n",
              "      <td>NaN</td>\n",
              "    </tr>\n",
              "  </tbody>\n",
              "</table>\n",
              "</div>\n",
              "      <button class=\"colab-df-convert\" onclick=\"convertToInteractive('df-dca99e75-9cd9-437d-8f87-a9cd649dec29')\"\n",
              "              title=\"Convert this dataframe to an interactive table.\"\n",
              "              style=\"display:none;\">\n",
              "        \n",
              "  <svg xmlns=\"http://www.w3.org/2000/svg\" height=\"24px\"viewBox=\"0 0 24 24\"\n",
              "       width=\"24px\">\n",
              "    <path d=\"M0 0h24v24H0V0z\" fill=\"none\"/>\n",
              "    <path d=\"M18.56 5.44l.94 2.06.94-2.06 2.06-.94-2.06-.94-.94-2.06-.94 2.06-2.06.94zm-11 1L8.5 8.5l.94-2.06 2.06-.94-2.06-.94L8.5 2.5l-.94 2.06-2.06.94zm10 10l.94 2.06.94-2.06 2.06-.94-2.06-.94-.94-2.06-.94 2.06-2.06.94z\"/><path d=\"M17.41 7.96l-1.37-1.37c-.4-.4-.92-.59-1.43-.59-.52 0-1.04.2-1.43.59L10.3 9.45l-7.72 7.72c-.78.78-.78 2.05 0 2.83L4 21.41c.39.39.9.59 1.41.59.51 0 1.02-.2 1.41-.59l7.78-7.78 2.81-2.81c.8-.78.8-2.07 0-2.86zM5.41 20L4 18.59l7.72-7.72 1.47 1.35L5.41 20z\"/>\n",
              "  </svg>\n",
              "      </button>\n",
              "      \n",
              "  <style>\n",
              "    .colab-df-container {\n",
              "      display:flex;\n",
              "      flex-wrap:wrap;\n",
              "      gap: 12px;\n",
              "    }\n",
              "\n",
              "    .colab-df-convert {\n",
              "      background-color: #E8F0FE;\n",
              "      border: none;\n",
              "      border-radius: 50%;\n",
              "      cursor: pointer;\n",
              "      display: none;\n",
              "      fill: #1967D2;\n",
              "      height: 32px;\n",
              "      padding: 0 0 0 0;\n",
              "      width: 32px;\n",
              "    }\n",
              "\n",
              "    .colab-df-convert:hover {\n",
              "      background-color: #E2EBFA;\n",
              "      box-shadow: 0px 1px 2px rgba(60, 64, 67, 0.3), 0px 1px 3px 1px rgba(60, 64, 67, 0.15);\n",
              "      fill: #174EA6;\n",
              "    }\n",
              "\n",
              "    [theme=dark] .colab-df-convert {\n",
              "      background-color: #3B4455;\n",
              "      fill: #D2E3FC;\n",
              "    }\n",
              "\n",
              "    [theme=dark] .colab-df-convert:hover {\n",
              "      background-color: #434B5C;\n",
              "      box-shadow: 0px 1px 3px 1px rgba(0, 0, 0, 0.15);\n",
              "      filter: drop-shadow(0px 1px 2px rgba(0, 0, 0, 0.3));\n",
              "      fill: #FFFFFF;\n",
              "    }\n",
              "  </style>\n",
              "\n",
              "      <script>\n",
              "        const buttonEl =\n",
              "          document.querySelector('#df-dca99e75-9cd9-437d-8f87-a9cd649dec29 button.colab-df-convert');\n",
              "        buttonEl.style.display =\n",
              "          google.colab.kernel.accessAllowed ? 'block' : 'none';\n",
              "\n",
              "        async function convertToInteractive(key) {\n",
              "          const element = document.querySelector('#df-dca99e75-9cd9-437d-8f87-a9cd649dec29');\n",
              "          const dataTable =\n",
              "            await google.colab.kernel.invokeFunction('convertToInteractive',\n",
              "                                                     [key], {});\n",
              "          if (!dataTable) return;\n",
              "\n",
              "          const docLinkHtml = 'Like what you see? Visit the ' +\n",
              "            '<a target=\"_blank\" href=https://colab.research.google.com/notebooks/data_table.ipynb>data table notebook</a>'\n",
              "            + ' to learn more about interactive tables.';\n",
              "          element.innerHTML = '';\n",
              "          dataTable['output_type'] = 'display_data';\n",
              "          await google.colab.output.renderOutput(dataTable, element);\n",
              "          const docLink = document.createElement('div');\n",
              "          docLink.innerHTML = docLinkHtml;\n",
              "          element.appendChild(docLink);\n",
              "        }\n",
              "      </script>\n",
              "    </div>\n",
              "  </div>\n",
              "  "
            ]
          },
          "metadata": {},
          "execution_count": 92
        }
      ]
    },
    {
      "cell_type": "code",
      "source": [
        "kq150_data.index[0]"
      ],
      "metadata": {
        "colab": {
          "base_uri": "https://localhost:8080/"
        },
        "id": "_KYMFaR6OeIi",
        "outputId": "06bff3b8-c7a3-47c8-d3bb-4aeb934ef8f2"
      },
      "execution_count": 111,
      "outputs": [
        {
          "output_type": "execute_result",
          "data": {
            "text/plain": [
              "Timestamp('2016-01-04 10:00:00')"
            ]
          },
          "metadata": {},
          "execution_count": 111
        }
      ]
    },
    {
      "cell_type": "code",
      "source": [
        "for idx in range(120000,len(kq150_data.index)):\n",
        "    if kq150_data.index[idx] in entrance:\n",
        "        kq150_data['side'][idx] = 1\n",
        "        # print(idx)\n",
        "    if kq150_data.index[idx] in exit_:\n",
        "        kq150_data['side'][idx] = -1\n",
        "        # print(idx)"
      ],
      "metadata": {
        "id": "cBJn0JkYGUqb"
      },
      "execution_count": 158,
      "outputs": []
    },
    {
      "cell_type": "code",
      "source": [
        "kq150_data['side'][374267]"
      ],
      "metadata": {
        "colab": {
          "base_uri": "https://localhost:8080/"
        },
        "id": "uoWw2B4WJ0nD",
        "outputId": "04a43c3f-5435-4d32-f6b7-afe8eb480a37"
      },
      "execution_count": 159,
      "outputs": [
        {
          "output_type": "execute_result",
          "data": {
            "text/plain": [
              "1.0"
            ]
          },
          "metadata": {},
          "execution_count": 159
        }
      ]
    },
    {
      "cell_type": "code",
      "source": [
        "kq150_data.head()"
      ],
      "metadata": {
        "colab": {
          "base_uri": "https://localhost:8080/",
          "height": 238
        },
        "id": "8BO_HaWDPhVg",
        "outputId": "1de017fe-5236-4285-e387-fd764321c186"
      },
      "execution_count": 117,
      "outputs": [
        {
          "output_type": "execute_result",
          "data": {
            "text/plain": [
              "                       Open    High     Low   Close  side\n",
              "Date-Time                                                \n",
              "2016-01-04 10:00:00  1090.0  1092.0  1090.0  1092.0   NaN\n",
              "2016-01-04 10:01:00  1092.0  1093.0  1092.0  1093.0   NaN\n",
              "2016-01-04 10:02:00  1093.0  1093.0  1093.0  1093.0   NaN\n",
              "2016-01-04 10:03:00  1093.0  1093.0  1093.0  1093.0   NaN\n",
              "2016-01-04 10:04:00  1092.7  1092.7  1092.5  1092.5   NaN"
            ],
            "text/html": [
              "\n",
              "  <div id=\"df-d0882fe4-15ca-4827-9e92-9ffa0cf1ead3\">\n",
              "    <div class=\"colab-df-container\">\n",
              "      <div>\n",
              "<style scoped>\n",
              "    .dataframe tbody tr th:only-of-type {\n",
              "        vertical-align: middle;\n",
              "    }\n",
              "\n",
              "    .dataframe tbody tr th {\n",
              "        vertical-align: top;\n",
              "    }\n",
              "\n",
              "    .dataframe thead th {\n",
              "        text-align: right;\n",
              "    }\n",
              "</style>\n",
              "<table border=\"1\" class=\"dataframe\">\n",
              "  <thead>\n",
              "    <tr style=\"text-align: right;\">\n",
              "      <th></th>\n",
              "      <th>Open</th>\n",
              "      <th>High</th>\n",
              "      <th>Low</th>\n",
              "      <th>Close</th>\n",
              "      <th>side</th>\n",
              "    </tr>\n",
              "    <tr>\n",
              "      <th>Date-Time</th>\n",
              "      <th></th>\n",
              "      <th></th>\n",
              "      <th></th>\n",
              "      <th></th>\n",
              "      <th></th>\n",
              "    </tr>\n",
              "  </thead>\n",
              "  <tbody>\n",
              "    <tr>\n",
              "      <th>2016-01-04 10:00:00</th>\n",
              "      <td>1090.0</td>\n",
              "      <td>1092.0</td>\n",
              "      <td>1090.0</td>\n",
              "      <td>1092.0</td>\n",
              "      <td>NaN</td>\n",
              "    </tr>\n",
              "    <tr>\n",
              "      <th>2016-01-04 10:01:00</th>\n",
              "      <td>1092.0</td>\n",
              "      <td>1093.0</td>\n",
              "      <td>1092.0</td>\n",
              "      <td>1093.0</td>\n",
              "      <td>NaN</td>\n",
              "    </tr>\n",
              "    <tr>\n",
              "      <th>2016-01-04 10:02:00</th>\n",
              "      <td>1093.0</td>\n",
              "      <td>1093.0</td>\n",
              "      <td>1093.0</td>\n",
              "      <td>1093.0</td>\n",
              "      <td>NaN</td>\n",
              "    </tr>\n",
              "    <tr>\n",
              "      <th>2016-01-04 10:03:00</th>\n",
              "      <td>1093.0</td>\n",
              "      <td>1093.0</td>\n",
              "      <td>1093.0</td>\n",
              "      <td>1093.0</td>\n",
              "      <td>NaN</td>\n",
              "    </tr>\n",
              "    <tr>\n",
              "      <th>2016-01-04 10:04:00</th>\n",
              "      <td>1092.7</td>\n",
              "      <td>1092.7</td>\n",
              "      <td>1092.5</td>\n",
              "      <td>1092.5</td>\n",
              "      <td>NaN</td>\n",
              "    </tr>\n",
              "  </tbody>\n",
              "</table>\n",
              "</div>\n",
              "      <button class=\"colab-df-convert\" onclick=\"convertToInteractive('df-d0882fe4-15ca-4827-9e92-9ffa0cf1ead3')\"\n",
              "              title=\"Convert this dataframe to an interactive table.\"\n",
              "              style=\"display:none;\">\n",
              "        \n",
              "  <svg xmlns=\"http://www.w3.org/2000/svg\" height=\"24px\"viewBox=\"0 0 24 24\"\n",
              "       width=\"24px\">\n",
              "    <path d=\"M0 0h24v24H0V0z\" fill=\"none\"/>\n",
              "    <path d=\"M18.56 5.44l.94 2.06.94-2.06 2.06-.94-2.06-.94-.94-2.06-.94 2.06-2.06.94zm-11 1L8.5 8.5l.94-2.06 2.06-.94-2.06-.94L8.5 2.5l-.94 2.06-2.06.94zm10 10l.94 2.06.94-2.06 2.06-.94-2.06-.94-.94-2.06-.94 2.06-2.06.94z\"/><path d=\"M17.41 7.96l-1.37-1.37c-.4-.4-.92-.59-1.43-.59-.52 0-1.04.2-1.43.59L10.3 9.45l-7.72 7.72c-.78.78-.78 2.05 0 2.83L4 21.41c.39.39.9.59 1.41.59.51 0 1.02-.2 1.41-.59l7.78-7.78 2.81-2.81c.8-.78.8-2.07 0-2.86zM5.41 20L4 18.59l7.72-7.72 1.47 1.35L5.41 20z\"/>\n",
              "  </svg>\n",
              "      </button>\n",
              "      \n",
              "  <style>\n",
              "    .colab-df-container {\n",
              "      display:flex;\n",
              "      flex-wrap:wrap;\n",
              "      gap: 12px;\n",
              "    }\n",
              "\n",
              "    .colab-df-convert {\n",
              "      background-color: #E8F0FE;\n",
              "      border: none;\n",
              "      border-radius: 50%;\n",
              "      cursor: pointer;\n",
              "      display: none;\n",
              "      fill: #1967D2;\n",
              "      height: 32px;\n",
              "      padding: 0 0 0 0;\n",
              "      width: 32px;\n",
              "    }\n",
              "\n",
              "    .colab-df-convert:hover {\n",
              "      background-color: #E2EBFA;\n",
              "      box-shadow: 0px 1px 2px rgba(60, 64, 67, 0.3), 0px 1px 3px 1px rgba(60, 64, 67, 0.15);\n",
              "      fill: #174EA6;\n",
              "    }\n",
              "\n",
              "    [theme=dark] .colab-df-convert {\n",
              "      background-color: #3B4455;\n",
              "      fill: #D2E3FC;\n",
              "    }\n",
              "\n",
              "    [theme=dark] .colab-df-convert:hover {\n",
              "      background-color: #434B5C;\n",
              "      box-shadow: 0px 1px 3px 1px rgba(0, 0, 0, 0.15);\n",
              "      filter: drop-shadow(0px 1px 2px rgba(0, 0, 0, 0.3));\n",
              "      fill: #FFFFFF;\n",
              "    }\n",
              "  </style>\n",
              "\n",
              "      <script>\n",
              "        const buttonEl =\n",
              "          document.querySelector('#df-d0882fe4-15ca-4827-9e92-9ffa0cf1ead3 button.colab-df-convert');\n",
              "        buttonEl.style.display =\n",
              "          google.colab.kernel.accessAllowed ? 'block' : 'none';\n",
              "\n",
              "        async function convertToInteractive(key) {\n",
              "          const element = document.querySelector('#df-d0882fe4-15ca-4827-9e92-9ffa0cf1ead3');\n",
              "          const dataTable =\n",
              "            await google.colab.kernel.invokeFunction('convertToInteractive',\n",
              "                                                     [key], {});\n",
              "          if (!dataTable) return;\n",
              "\n",
              "          const docLinkHtml = 'Like what you see? Visit the ' +\n",
              "            '<a target=\"_blank\" href=https://colab.research.google.com/notebooks/data_table.ipynb>data table notebook</a>'\n",
              "            + ' to learn more about interactive tables.';\n",
              "          element.innerHTML = '';\n",
              "          dataTable['output_type'] = 'display_data';\n",
              "          await google.colab.output.renderOutput(dataTable, element);\n",
              "          const docLink = document.createElement('div');\n",
              "          docLink.innerHTML = docLinkHtml;\n",
              "          element.appendChild(docLink);\n",
              "        }\n",
              "      </script>\n",
              "    </div>\n",
              "  </div>\n",
              "  "
            ]
          },
          "metadata": {},
          "execution_count": 117
        }
      ]
    },
    {
      "cell_type": "code",
      "execution_count": 118,
      "metadata": {
        "id": "t4w79hxelX6k"
      },
      "outputs": [],
      "source": [
        "# 2. CS_filter\n",
        "def getTEvents(gRaw,h): #gRaw: dollar['Close'], h:d_vol.mean()\n",
        "    tEvents,sPos,sNeg=[],0,0\n",
        "    diff=gRaw.diff()\n",
        "    h = float(h)\n",
        "    for i in diff.index[1:]:\n",
        "        sPos,sNeg=float(max(0,sPos+diff.loc[i])),float(min(0,sNeg+diff.loc[i]))\n",
        "        if sNeg<-h:\n",
        "            sNeg=0;tEvents.append(i)\n",
        "        elif sPos>h:\n",
        "            sPos=0;tEvents.append(i)\n",
        "    return pd.DatetimeIndex(tEvents)"
      ]
    },
    {
      "cell_type": "code",
      "execution_count": 119,
      "metadata": {
        "colab": {
          "base_uri": "https://localhost:8080/"
        },
        "id": "ObMOJhm8lX6l",
        "outputId": "a70db6af-cedc-4884-b26a-6f315ca31067"
      },
      "outputs": [
        {
          "output_type": "execute_result",
          "data": {
            "text/plain": [
              "DatetimeIndex(['2016-01-04 10:01:00', '2016-01-04 10:04:00',\n",
              "               '2016-01-04 10:05:00', '2016-01-04 10:06:00',\n",
              "               '2016-01-04 10:07:00', '2016-01-04 10:09:00',\n",
              "               '2016-01-04 10:11:00', '2016-01-04 10:16:00',\n",
              "               '2016-01-04 10:18:00', '2016-01-04 10:19:00',\n",
              "               ...\n",
              "               '2023-04-25 15:26:00', '2023-04-25 15:27:00',\n",
              "               '2023-04-25 15:28:00', '2023-04-25 15:29:00',\n",
              "               '2023-04-25 15:30:00', '2023-04-25 15:31:00',\n",
              "               '2023-04-25 15:32:00', '2023-04-25 15:33:00',\n",
              "               '2023-04-25 15:34:00', '2023-04-25 15:45:00'],\n",
              "              dtype='datetime64[ns]', length=589081, freq=None)"
            ]
          },
          "metadata": {},
          "execution_count": 119
        }
      ],
      "source": [
        "tEvents = getTEvents(kq150_data['Close'], parkinson_vol.mean())\n",
        "tEvents"
      ]
    },
    {
      "cell_type": "code",
      "execution_count": 120,
      "metadata": {
        "id": "kbfAvEwolX6m"
      },
      "outputs": [],
      "source": [
        "# 3. Tripple Barrier Labeling\n",
        "def applyPtSlOnT1(close,events,ptSl,molecule):\n",
        "    \n",
        "    '''\n",
        "    Tripple-barrier labeling method\n",
        "    ` Apply stop loss/profit taking, if it takes place before t1 (end of event)\n",
        "\n",
        "    Input: \n",
        "    ` events: \n",
        "      — t1: the timestamp of vertical barrier\n",
        "      — trgt: the unit width of the horizontal barriers, expressed in terms of absolute returns\n",
        "    ` ptsl: a list of two non-negative float values\n",
        "      - ptsl[0]: the factor multiplies trgt to set the width of the upper barrier\n",
        "      - ptsl[1]: the factor that multiplies trgt to set the width of the lower barrier\n",
        "    ` molecule: a list with the subset of event indices \n",
        "\n",
        "    Output: a Dataframe containing the timestamps at which each barrier was touched, [pt, s1, t1]\n",
        "    ` 0 (inactive barrier) or 1 (active barrier)\n",
        "\n",
        "    '''\n",
        "    #events_=events.loc[molecule]\n",
        "    events_=events\n",
        "    out=events_[['t1']].copy(deep=True)\n",
        "    if ptSl[0]>0:pt=ptSl[0]*events_['trgt']\n",
        "    else:pt=pd.Series(index=events.index) # NaNs\n",
        "    if ptSl[1]>0:sl=-ptSl[1]*events_['trgt']\n",
        "    else:sl=pd.Series(index=events.index) # NaNs\n",
        "    for loc,t1 in events_['t1'].fillna(close.index[-1]).iteritems():\n",
        "        df0=close[loc:t1] # path prices\n",
        "        df0=(df0/close[loc]-1)*events_.at[loc,'side'] # path returns\n",
        "        out.loc[loc,'sl']=df0[df0<sl[loc]].index.min() # earliest stop loss.\n",
        "        out.loc[loc,'pt']=df0[df0>pt[loc]].index.min() # earliest profit taking.\n",
        "    return out\n"
      ]
    },
    {
      "cell_type": "code",
      "execution_count": 121,
      "metadata": {
        "id": "bZHx3doOlX6m"
      },
      "outputs": [],
      "source": [
        "# 20.4.1 - mpPandasObj\n",
        "def linParts(numAtoms,numThreads):\n",
        "    # partition of atoms with a single loop\n",
        "    parts=np.linspace(0,numAtoms,min(numThreads,numAtoms)+1)\n",
        "    parts=np.ceil(parts).astype(int)\n",
        "    print(parts)\n",
        "    return parts"
      ]
    },
    {
      "cell_type": "code",
      "execution_count": 122,
      "metadata": {
        "id": "GxBnQzK8lX6n"
      },
      "outputs": [],
      "source": [
        "# 20.4.1 - mpPandasObj\n",
        "def nestedParts(numAtoms,numThreads,upperTriang=False):\n",
        "    # partition of atoms with an inner loop\n",
        "    parts,numThreads_=[0],min(numThreads,numAtoms)\n",
        "    for num in range(numThreads_):\n",
        "        part=1+4*(parts[-1]**2+parts[-1]+numAtoms*(numAtoms+1.)/numThreads_)\n",
        "        part=(-1+part**.5)/2.\n",
        "        parts.append(part)\n",
        "    parts=np.round(parts).astype(int)\n",
        "    if upperTriang: # the first rows are heaviest\n",
        "        parts=np.cumsum(np.diff(parts)[::-1])\n",
        "        parts=np.append(np.array([0]),parts)\n",
        "    print(\"nestedParts: \", len(parts))\n",
        "    return parts"
      ]
    },
    {
      "cell_type": "code",
      "execution_count": 123,
      "metadata": {
        "id": "mM1tzu_dlX6n"
      },
      "outputs": [],
      "source": [
        "# 20.10\n",
        "def expandCall(kargs):\n",
        "    # Expand the arguments of a callback function, kargs['func']\n",
        "    func=kargs['func']\n",
        "    del kargs['func']\n",
        "    out=func(**kargs)\n",
        "    print(\"ExpandCall: \", len(out))\n",
        "    return out"
      ]
    },
    {
      "cell_type": "code",
      "execution_count": 124,
      "metadata": {
        "id": "MvNH-YVslX6o"
      },
      "outputs": [],
      "source": [
        "# 20.8 - mpPandasObj\n",
        "def processJobs_(jobs):\n",
        "    # Run jobs sequentially, for debugging\n",
        "    out=[]\n",
        "    for job in jobs:\n",
        "        out_=expandCall(job)\n",
        "        out.append(out_)\n",
        "    print(\"processJobs_: \", len(out))\n",
        "    return out"
      ]
    },
    {
      "cell_type": "code",
      "execution_count": 125,
      "metadata": {
        "id": "pjQcZGnOlX6o"
      },
      "outputs": [],
      "source": [
        "# 4. Multiprocessing Obj\n",
        "def mpPandasObj(func,pdObj,numThreads=24,mpBatches=1,linMols=True,**kargs):\n",
        "    '''\n",
        "    Parallelize jobs, return a dataframe or series\n",
        "    + func: function to be parallelized. Returns a DataFrame\n",
        "    + pdObj[0]: Name of argument used to pass the molecule\n",
        "    + pdObj[1]: List of atoms that will be grouped into molecules\n",
        "    + kwds: any other argument needed by func\n",
        "    \n",
        "    Example: df1=mpPandasObj(func,('molecule',df0.index),24,**kwds)\n",
        "    '''\n",
        "    import pandas as pd\n",
        "    #if linMols:parts=linParts(len(argList[1]),numThreads*mpBatches)\n",
        "    #else:parts=nestedParts(len(argList[1]),numThreads*mpBatches)\n",
        "    if linMols:parts=linParts(len(pdObj[1]),numThreads*mpBatches)\n",
        "    else:parts=nestedParts(len(pdObj[1]),numThreads*mpBatches)\n",
        "    \n",
        "    jobs=[]\n",
        "    for i in range(1,len(parts)):\n",
        "        job={pdObj[0]:pdObj[1][parts[i-1]:parts[i]],'func':func}\n",
        "        job.update(kargs)\n",
        "        jobs.append(job)\n",
        "    print(\"jobs: \", len(jobs))\n",
        "    if numThreads==1:out=processJobs_(jobs)\n",
        "    else: out=processJobs(jobs,numThreads=numThreads)\n",
        "    if isinstance(out[0],pd.DataFrame):df0=pd.DataFrame()\n",
        "    elif isinstance(out[0],pd.Series):df0=pd.Series()\n",
        "    else:return out\n",
        "    for i in out:df0=df0.append(i)\n",
        "    df0=df0.sort_index()\n",
        "    return df0"
      ]
    },
    {
      "cell_type": "code",
      "execution_count": 126,
      "metadata": {
        "id": "qhfaX7PrlX6o"
      },
      "outputs": [],
      "source": [
        "# 5. Get the First Time of Touch\n",
        "def getEvents(close,tEvents,ptSl,trgt,minRet,numThreads,t1=False,side=None):\n",
        "    '''\n",
        "    Getting the time of first touch\n",
        "     \n",
        "    Input:\n",
        "    ` tEvents: the pandas timeindex containing the timestamps that will seed every triple barrier \n",
        "      - the timestamps selected by the sampling procedures \n",
        "    ` minRet: the minimum target return required for running a triple barrier search\n",
        "    ` numThreads: the number of threads concurrently used by the function  \n",
        "\n",
        "    Output: \n",
        "    ` events: a Dataframe\n",
        "      - events.index: event's starttime\n",
        "      - events['t1']: event's endtime\n",
        "      - events['trgt']: event's target\n",
        "      - events['side'] (optional): the algo's position side\n",
        "    '''\n",
        "    #1) get target\n",
        "    trgt=trgt.loc[tEvents]\n",
        "    trgt=trgt[trgt>minRet] # minRet\n",
        "    print(trgt.index)\n",
        "    #2) get t1 (max holding period)\n",
        "    if t1 is False:t1=pd.Series(pd.NaT,index=tEvents)\n",
        "    #3) form events object, apply stop loss on t1\n",
        "    if side is None:side_,ptSl_=pd.Series(1.,index=trgt.index),[ptSl[0],ptSl[0]]\n",
        "    else:side_,ptSl_=side.loc[trgt.index],ptSl[:2]\n",
        "    events=pd.concat({'t1':t1,'trgt':trgt,'side':side_}, axis=1).droplevel(1, axis=1).dropna(subset=['trgt'])\n",
        "    # print(events.index)\n",
        "    df0=mpPandasObj(func=applyPtSlOnT1,pdObj=('molecule',events.index), numThreads=numThreads,close=close,events=events,ptSl=ptSl_)\n",
        "    # print(\"event['t1']: \", events['t1'])\n",
        "    events['t1']=df0.dropna(how='all').min(axis=1) # pd.min ignores nan\n",
        "    if side is None:events=events.drop('side',axis=1)\n",
        "    return events\n"
      ]
    },
    {
      "cell_type": "code",
      "execution_count": 127,
      "metadata": {
        "id": "wfiS0mi6lX6o"
      },
      "outputs": [],
      "source": [
        "#Vertical Barrier\n",
        "def addVerticalBarrier(close, events, numDays=1):\n",
        "    t1=close.index.searchsorted(events+pd.Timedelta(days=numDays))\n",
        "    t1=t1[t1<close.shape[0]]\n",
        "    t1=pd.Series(close.index[t1],index=events[:t1.shape[0]]) # NaNs at end\n",
        "    return t1"
      ]
    },
    {
      "cell_type": "code",
      "execution_count": 128,
      "metadata": {
        "colab": {
          "base_uri": "https://localhost:8080/"
        },
        "id": "FMnoiEvNlX6p",
        "outputId": "dec6e99c-bbc5-476d-ce77-2fc08959e5cb"
      },
      "outputs": [
        {
          "output_type": "execute_result",
          "data": {
            "text/plain": [
              "2016-01-04 10:01:00   2016-01-05 10:01:00\n",
              "2016-01-04 10:04:00   2016-01-05 10:04:00\n",
              "2016-01-04 10:05:00   2016-01-05 10:05:00\n",
              "2016-01-04 10:06:00   2016-01-05 10:06:00\n",
              "2016-01-04 10:07:00   2016-01-05 10:07:00\n",
              "                              ...        \n",
              "2023-04-24 15:31:00   2023-04-25 15:31:00\n",
              "2023-04-24 15:32:00   2023-04-25 15:32:00\n",
              "2023-04-24 15:33:00   2023-04-25 15:33:00\n",
              "2023-04-24 15:34:00   2023-04-25 15:34:00\n",
              "2023-04-24 15:45:00   2023-04-25 15:45:00\n",
              "Name: Date-Time, Length: 588703, dtype: datetime64[ns]"
            ]
          },
          "metadata": {},
          "execution_count": 128
        }
      ],
      "source": [
        "t1 = addVerticalBarrier(kq150_data['Close'], tEvents, 1)\n",
        "t1"
      ]
    },
    {
      "cell_type": "code",
      "execution_count": 129,
      "metadata": {
        "id": "JSqZRXuBlX6p"
      },
      "outputs": [],
      "source": [
        "# create target series\n",
        "ptsl = [1,1]\n",
        "target=parkinson_vol\n",
        "# select minRet\n",
        "minRet = 0.000505\n",
        "\n",
        "# Run in single-threaded mode on Windows\n",
        "from multiprocessing import cpu_count\n",
        "import platform\n",
        "if platform.system() == \"Windows\":\n",
        "    cpus = 1\n",
        "else:\n",
        "    cpus = cpu_count() - 1\n"
      ]
    },
    {
      "cell_type": "code",
      "execution_count": 131,
      "metadata": {
        "colab": {
          "base_uri": "https://localhost:8080/",
          "height": 503
        },
        "id": "m404hwxmlX6p",
        "outputId": "a6c9dbc6-a4cb-4d05-8e90-c6b15af51224"
      },
      "outputs": [
        {
          "output_type": "stream",
          "name": "stdout",
          "text": [
            "DatetimeIndex(['2016-01-04 10:01:00', '2016-01-04 10:04:00',\n",
            "               '2016-01-04 10:05:00', '2016-01-04 10:06:00',\n",
            "               '2016-01-04 10:07:00', '2016-01-04 10:09:00',\n",
            "               '2016-01-04 10:11:00', '2016-01-04 10:16:00',\n",
            "               '2016-01-04 10:18:00', '2016-01-04 10:19:00',\n",
            "               ...\n",
            "               '2023-04-25 15:26:00', '2023-04-25 15:27:00',\n",
            "               '2023-04-25 15:28:00', '2023-04-25 15:29:00',\n",
            "               '2023-04-25 15:30:00', '2023-04-25 15:31:00',\n",
            "               '2023-04-25 15:32:00', '2023-04-25 15:33:00',\n",
            "               '2023-04-25 15:34:00', '2023-04-25 15:45:00'],\n",
            "              dtype='datetime64[ns]', length=589081, freq=None)\n",
            "[     0 236973]\n",
            "jobs:  1\n",
            "ExpandCall:  236973\n",
            "processJobs_:  1\n"
          ]
        },
        {
          "output_type": "execute_result",
          "data": {
            "text/plain": [
              "                                     t1      trgt  side\n",
              "2016-01-04 11:09:00 2016-01-05 11:09:00  0.000548   NaN\n",
              "2016-01-04 11:10:00 2016-01-05 11:10:00  0.000699   NaN\n",
              "2016-01-04 11:11:00 2016-01-05 11:11:00  0.000698   NaN\n",
              "2016-01-04 11:12:00 2016-01-05 11:12:00  0.000698   NaN\n",
              "2016-01-04 11:13:00 2016-01-05 11:13:00  0.000698   NaN"
            ],
            "text/html": [
              "\n",
              "  <div id=\"df-b1c48915-ed50-4643-8b9c-14f42d0b0a92\">\n",
              "    <div class=\"colab-df-container\">\n",
              "      <div>\n",
              "<style scoped>\n",
              "    .dataframe tbody tr th:only-of-type {\n",
              "        vertical-align: middle;\n",
              "    }\n",
              "\n",
              "    .dataframe tbody tr th {\n",
              "        vertical-align: top;\n",
              "    }\n",
              "\n",
              "    .dataframe thead th {\n",
              "        text-align: right;\n",
              "    }\n",
              "</style>\n",
              "<table border=\"1\" class=\"dataframe\">\n",
              "  <thead>\n",
              "    <tr style=\"text-align: right;\">\n",
              "      <th></th>\n",
              "      <th>t1</th>\n",
              "      <th>trgt</th>\n",
              "      <th>side</th>\n",
              "    </tr>\n",
              "  </thead>\n",
              "  <tbody>\n",
              "    <tr>\n",
              "      <th>2016-01-04 11:09:00</th>\n",
              "      <td>2016-01-05 11:09:00</td>\n",
              "      <td>0.000548</td>\n",
              "      <td>NaN</td>\n",
              "    </tr>\n",
              "    <tr>\n",
              "      <th>2016-01-04 11:10:00</th>\n",
              "      <td>2016-01-05 11:10:00</td>\n",
              "      <td>0.000699</td>\n",
              "      <td>NaN</td>\n",
              "    </tr>\n",
              "    <tr>\n",
              "      <th>2016-01-04 11:11:00</th>\n",
              "      <td>2016-01-05 11:11:00</td>\n",
              "      <td>0.000698</td>\n",
              "      <td>NaN</td>\n",
              "    </tr>\n",
              "    <tr>\n",
              "      <th>2016-01-04 11:12:00</th>\n",
              "      <td>2016-01-05 11:12:00</td>\n",
              "      <td>0.000698</td>\n",
              "      <td>NaN</td>\n",
              "    </tr>\n",
              "    <tr>\n",
              "      <th>2016-01-04 11:13:00</th>\n",
              "      <td>2016-01-05 11:13:00</td>\n",
              "      <td>0.000698</td>\n",
              "      <td>NaN</td>\n",
              "    </tr>\n",
              "  </tbody>\n",
              "</table>\n",
              "</div>\n",
              "      <button class=\"colab-df-convert\" onclick=\"convertToInteractive('df-b1c48915-ed50-4643-8b9c-14f42d0b0a92')\"\n",
              "              title=\"Convert this dataframe to an interactive table.\"\n",
              "              style=\"display:none;\">\n",
              "        \n",
              "  <svg xmlns=\"http://www.w3.org/2000/svg\" height=\"24px\"viewBox=\"0 0 24 24\"\n",
              "       width=\"24px\">\n",
              "    <path d=\"M0 0h24v24H0V0z\" fill=\"none\"/>\n",
              "    <path d=\"M18.56 5.44l.94 2.06.94-2.06 2.06-.94-2.06-.94-.94-2.06-.94 2.06-2.06.94zm-11 1L8.5 8.5l.94-2.06 2.06-.94-2.06-.94L8.5 2.5l-.94 2.06-2.06.94zm10 10l.94 2.06.94-2.06 2.06-.94-2.06-.94-.94-2.06-.94 2.06-2.06.94z\"/><path d=\"M17.41 7.96l-1.37-1.37c-.4-.4-.92-.59-1.43-.59-.52 0-1.04.2-1.43.59L10.3 9.45l-7.72 7.72c-.78.78-.78 2.05 0 2.83L4 21.41c.39.39.9.59 1.41.59.51 0 1.02-.2 1.41-.59l7.78-7.78 2.81-2.81c.8-.78.8-2.07 0-2.86zM5.41 20L4 18.59l7.72-7.72 1.47 1.35L5.41 20z\"/>\n",
              "  </svg>\n",
              "      </button>\n",
              "      \n",
              "  <style>\n",
              "    .colab-df-container {\n",
              "      display:flex;\n",
              "      flex-wrap:wrap;\n",
              "      gap: 12px;\n",
              "    }\n",
              "\n",
              "    .colab-df-convert {\n",
              "      background-color: #E8F0FE;\n",
              "      border: none;\n",
              "      border-radius: 50%;\n",
              "      cursor: pointer;\n",
              "      display: none;\n",
              "      fill: #1967D2;\n",
              "      height: 32px;\n",
              "      padding: 0 0 0 0;\n",
              "      width: 32px;\n",
              "    }\n",
              "\n",
              "    .colab-df-convert:hover {\n",
              "      background-color: #E2EBFA;\n",
              "      box-shadow: 0px 1px 2px rgba(60, 64, 67, 0.3), 0px 1px 3px 1px rgba(60, 64, 67, 0.15);\n",
              "      fill: #174EA6;\n",
              "    }\n",
              "\n",
              "    [theme=dark] .colab-df-convert {\n",
              "      background-color: #3B4455;\n",
              "      fill: #D2E3FC;\n",
              "    }\n",
              "\n",
              "    [theme=dark] .colab-df-convert:hover {\n",
              "      background-color: #434B5C;\n",
              "      box-shadow: 0px 1px 3px 1px rgba(0, 0, 0, 0.15);\n",
              "      filter: drop-shadow(0px 1px 2px rgba(0, 0, 0, 0.3));\n",
              "      fill: #FFFFFF;\n",
              "    }\n",
              "  </style>\n",
              "\n",
              "      <script>\n",
              "        const buttonEl =\n",
              "          document.querySelector('#df-b1c48915-ed50-4643-8b9c-14f42d0b0a92 button.colab-df-convert');\n",
              "        buttonEl.style.display =\n",
              "          google.colab.kernel.accessAllowed ? 'block' : 'none';\n",
              "\n",
              "        async function convertToInteractive(key) {\n",
              "          const element = document.querySelector('#df-b1c48915-ed50-4643-8b9c-14f42d0b0a92');\n",
              "          const dataTable =\n",
              "            await google.colab.kernel.invokeFunction('convertToInteractive',\n",
              "                                                     [key], {});\n",
              "          if (!dataTable) return;\n",
              "\n",
              "          const docLinkHtml = 'Like what you see? Visit the ' +\n",
              "            '<a target=\"_blank\" href=https://colab.research.google.com/notebooks/data_table.ipynb>data table notebook</a>'\n",
              "            + ' to learn more about interactive tables.';\n",
              "          element.innerHTML = '';\n",
              "          dataTable['output_type'] = 'display_data';\n",
              "          await google.colab.output.renderOutput(dataTable, element);\n",
              "          const docLink = document.createElement('div');\n",
              "          docLink.innerHTML = docLinkHtml;\n",
              "          element.appendChild(docLink);\n",
              "        }\n",
              "      </script>\n",
              "    </div>\n",
              "  </div>\n",
              "  "
            ]
          },
          "metadata": {},
          "execution_count": 131
        }
      ],
      "source": [
        "events = getEvents(kq150_data['Close'],tEvents,ptsl,target,minRet,cpus,t1=t1, side=kq150_data['side'])\n",
        "\n",
        "# 최종적인 Tripple Barrier Output\n",
        "events.head()"
      ]
    },
    {
      "cell_type": "markdown",
      "metadata": {
        "id": "AnxuMgM0lX6p"
      },
      "source": [
        "### Meta-labeling"
      ]
    },
    {
      "cell_type": "code",
      "execution_count": 132,
      "metadata": {
        "id": "fEunCrUOlX6r"
      },
      "outputs": [],
      "source": [
        "def getBins(events,close,t1):\n",
        "    '''\n",
        "    Labeling for side and size\n",
        "    Input:\n",
        "    ` events: a Dataframe\n",
        "      - events.index: event's startime\n",
        "      - events['t1']: event's endtime\n",
        "      - events['trgt']: target\n",
        "      - events['side']: algo's position side (optional)\n",
        "    `t1: original vertical barrier\n",
        "         \n",
        "    Output:\n",
        "    ` ret: the return realized at the time of the first touched barrier\n",
        "    ` bin: the label as a function of the sign of the outcome \n",
        "      - Case 1: ('side' not in events): bin in (-1,1) <- label by price action (standard labeling)\n",
        "      - Case 2: ('side' in events): bin in (0,1), i.e. pass or bet <- label by pnl (meta-labeling) \n",
        "    '''\n",
        "    #1) prices aligned with events\n",
        "    events_=events.dropna(subset=['t1'])\n",
        "    px=events_.index.union(events_['t1'].values).drop_duplicates()\n",
        "    px=close.reindex(px,method='bfill')\n",
        "\n",
        "    #2) create out object\n",
        "    out=pd.DataFrame(index=events_.index)\n",
        "    out['ret']=px.loc[events_['t1'].values].values/px.loc[events_.index]-1\n",
        "    if 'side' in events_:\n",
        "        out['ret'] *= events_['side']\n",
        "    out['bin']=np.sign(out['ret'])  # -1, 0, 1 value return\n",
        "\n",
        "    if 'side' in events_:\n",
        "        out.loc[out['ret']<=0, 'bin'] = 0 # meta-labeling\n",
        "    else: \n",
        "        # update binary->0 when vertical barrier is touched\n",
        "        # when not meta-labeling\n",
        "        ver_first_idx = events[events['t1'].isin(t1.values)].index\n",
        "        out.loc[ver_first_idx, 'bin'] = 0\n",
        "\n",
        "    return out\n"
      ]
    },
    {
      "cell_type": "code",
      "execution_count": 133,
      "metadata": {
        "id": "M2LDxhcNlX6r"
      },
      "outputs": [],
      "source": [
        "def dropLabels(events,minPct=.05):\n",
        "    '''\n",
        "    Apply weights, drop labels with insufficient examples\n",
        "\n",
        "    '''\n",
        "    while True:\n",
        "        df0=events['bin'].value_counts(normalize=True)\n",
        "        if df0.min()>minPct or df0.shape[0]<3: break\n",
        "        print('dropped label',df0.argmin(),df0.min())\n",
        "        events=events[events['bin']!=df0.argmin()]\n",
        "    return events"
      ]
    },
    {
      "cell_type": "code",
      "execution_count": 134,
      "metadata": {
        "colab": {
          "base_uri": "https://localhost:8080/",
          "height": 424
        },
        "id": "fHysfYdqlX6s",
        "outputId": "61706331-ddd6-4c83-938f-2c086d50bf12"
      },
      "outputs": [
        {
          "output_type": "execute_result",
          "data": {
            "text/plain": [
              "                     ret  bin\n",
              "2016-01-04 11:09:00  NaN  NaN\n",
              "2016-01-04 11:10:00  NaN  NaN\n",
              "2016-01-04 11:11:00  NaN  NaN\n",
              "2016-01-04 11:12:00  NaN  NaN\n",
              "2016-01-04 11:13:00  NaN  NaN\n",
              "...                  ...  ...\n",
              "2023-04-24 15:22:00  NaN  NaN\n",
              "2023-04-24 15:30:00  NaN  NaN\n",
              "2023-04-24 15:31:00  NaN  NaN\n",
              "2023-04-24 15:32:00  NaN  NaN\n",
              "2023-04-24 15:33:00  NaN  NaN\n",
              "\n",
              "[236668 rows x 2 columns]"
            ],
            "text/html": [
              "\n",
              "  <div id=\"df-e4ce49da-6777-459d-95c3-8e66ba7f498c\">\n",
              "    <div class=\"colab-df-container\">\n",
              "      <div>\n",
              "<style scoped>\n",
              "    .dataframe tbody tr th:only-of-type {\n",
              "        vertical-align: middle;\n",
              "    }\n",
              "\n",
              "    .dataframe tbody tr th {\n",
              "        vertical-align: top;\n",
              "    }\n",
              "\n",
              "    .dataframe thead th {\n",
              "        text-align: right;\n",
              "    }\n",
              "</style>\n",
              "<table border=\"1\" class=\"dataframe\">\n",
              "  <thead>\n",
              "    <tr style=\"text-align: right;\">\n",
              "      <th></th>\n",
              "      <th>ret</th>\n",
              "      <th>bin</th>\n",
              "    </tr>\n",
              "  </thead>\n",
              "  <tbody>\n",
              "    <tr>\n",
              "      <th>2016-01-04 11:09:00</th>\n",
              "      <td>NaN</td>\n",
              "      <td>NaN</td>\n",
              "    </tr>\n",
              "    <tr>\n",
              "      <th>2016-01-04 11:10:00</th>\n",
              "      <td>NaN</td>\n",
              "      <td>NaN</td>\n",
              "    </tr>\n",
              "    <tr>\n",
              "      <th>2016-01-04 11:11:00</th>\n",
              "      <td>NaN</td>\n",
              "      <td>NaN</td>\n",
              "    </tr>\n",
              "    <tr>\n",
              "      <th>2016-01-04 11:12:00</th>\n",
              "      <td>NaN</td>\n",
              "      <td>NaN</td>\n",
              "    </tr>\n",
              "    <tr>\n",
              "      <th>2016-01-04 11:13:00</th>\n",
              "      <td>NaN</td>\n",
              "      <td>NaN</td>\n",
              "    </tr>\n",
              "    <tr>\n",
              "      <th>...</th>\n",
              "      <td>...</td>\n",
              "      <td>...</td>\n",
              "    </tr>\n",
              "    <tr>\n",
              "      <th>2023-04-24 15:22:00</th>\n",
              "      <td>NaN</td>\n",
              "      <td>NaN</td>\n",
              "    </tr>\n",
              "    <tr>\n",
              "      <th>2023-04-24 15:30:00</th>\n",
              "      <td>NaN</td>\n",
              "      <td>NaN</td>\n",
              "    </tr>\n",
              "    <tr>\n",
              "      <th>2023-04-24 15:31:00</th>\n",
              "      <td>NaN</td>\n",
              "      <td>NaN</td>\n",
              "    </tr>\n",
              "    <tr>\n",
              "      <th>2023-04-24 15:32:00</th>\n",
              "      <td>NaN</td>\n",
              "      <td>NaN</td>\n",
              "    </tr>\n",
              "    <tr>\n",
              "      <th>2023-04-24 15:33:00</th>\n",
              "      <td>NaN</td>\n",
              "      <td>NaN</td>\n",
              "    </tr>\n",
              "  </tbody>\n",
              "</table>\n",
              "<p>236668 rows × 2 columns</p>\n",
              "</div>\n",
              "      <button class=\"colab-df-convert\" onclick=\"convertToInteractive('df-e4ce49da-6777-459d-95c3-8e66ba7f498c')\"\n",
              "              title=\"Convert this dataframe to an interactive table.\"\n",
              "              style=\"display:none;\">\n",
              "        \n",
              "  <svg xmlns=\"http://www.w3.org/2000/svg\" height=\"24px\"viewBox=\"0 0 24 24\"\n",
              "       width=\"24px\">\n",
              "    <path d=\"M0 0h24v24H0V0z\" fill=\"none\"/>\n",
              "    <path d=\"M18.56 5.44l.94 2.06.94-2.06 2.06-.94-2.06-.94-.94-2.06-.94 2.06-2.06.94zm-11 1L8.5 8.5l.94-2.06 2.06-.94-2.06-.94L8.5 2.5l-.94 2.06-2.06.94zm10 10l.94 2.06.94-2.06 2.06-.94-2.06-.94-.94-2.06-.94 2.06-2.06.94z\"/><path d=\"M17.41 7.96l-1.37-1.37c-.4-.4-.92-.59-1.43-.59-.52 0-1.04.2-1.43.59L10.3 9.45l-7.72 7.72c-.78.78-.78 2.05 0 2.83L4 21.41c.39.39.9.59 1.41.59.51 0 1.02-.2 1.41-.59l7.78-7.78 2.81-2.81c.8-.78.8-2.07 0-2.86zM5.41 20L4 18.59l7.72-7.72 1.47 1.35L5.41 20z\"/>\n",
              "  </svg>\n",
              "      </button>\n",
              "      \n",
              "  <style>\n",
              "    .colab-df-container {\n",
              "      display:flex;\n",
              "      flex-wrap:wrap;\n",
              "      gap: 12px;\n",
              "    }\n",
              "\n",
              "    .colab-df-convert {\n",
              "      background-color: #E8F0FE;\n",
              "      border: none;\n",
              "      border-radius: 50%;\n",
              "      cursor: pointer;\n",
              "      display: none;\n",
              "      fill: #1967D2;\n",
              "      height: 32px;\n",
              "      padding: 0 0 0 0;\n",
              "      width: 32px;\n",
              "    }\n",
              "\n",
              "    .colab-df-convert:hover {\n",
              "      background-color: #E2EBFA;\n",
              "      box-shadow: 0px 1px 2px rgba(60, 64, 67, 0.3), 0px 1px 3px 1px rgba(60, 64, 67, 0.15);\n",
              "      fill: #174EA6;\n",
              "    }\n",
              "\n",
              "    [theme=dark] .colab-df-convert {\n",
              "      background-color: #3B4455;\n",
              "      fill: #D2E3FC;\n",
              "    }\n",
              "\n",
              "    [theme=dark] .colab-df-convert:hover {\n",
              "      background-color: #434B5C;\n",
              "      box-shadow: 0px 1px 3px 1px rgba(0, 0, 0, 0.15);\n",
              "      filter: drop-shadow(0px 1px 2px rgba(0, 0, 0, 0.3));\n",
              "      fill: #FFFFFF;\n",
              "    }\n",
              "  </style>\n",
              "\n",
              "      <script>\n",
              "        const buttonEl =\n",
              "          document.querySelector('#df-e4ce49da-6777-459d-95c3-8e66ba7f498c button.colab-df-convert');\n",
              "        buttonEl.style.display =\n",
              "          google.colab.kernel.accessAllowed ? 'block' : 'none';\n",
              "\n",
              "        async function convertToInteractive(key) {\n",
              "          const element = document.querySelector('#df-e4ce49da-6777-459d-95c3-8e66ba7f498c');\n",
              "          const dataTable =\n",
              "            await google.colab.kernel.invokeFunction('convertToInteractive',\n",
              "                                                     [key], {});\n",
              "          if (!dataTable) return;\n",
              "\n",
              "          const docLinkHtml = 'Like what you see? Visit the ' +\n",
              "            '<a target=\"_blank\" href=https://colab.research.google.com/notebooks/data_table.ipynb>data table notebook</a>'\n",
              "            + ' to learn more about interactive tables.';\n",
              "          element.innerHTML = '';\n",
              "          dataTable['output_type'] = 'display_data';\n",
              "          await google.colab.output.renderOutput(dataTable, element);\n",
              "          const docLink = document.createElement('div');\n",
              "          docLink.innerHTML = docLinkHtml;\n",
              "          element.appendChild(docLink);\n",
              "        }\n",
              "      </script>\n",
              "    </div>\n",
              "  </div>\n",
              "  "
            ]
          },
          "metadata": {},
          "execution_count": 134
        }
      ],
      "source": [
        "# triple barrier을 통해 얻은 event값을 넣어 meta-labeling\n",
        "m_events = getBins(events, kq150_data['Close'], t1)  # t1=vertical barrier\n",
        "m_label = dropLabels(m_events, minPct=.05)  # to get meta label\n",
        "\n",
        "m_label"
      ]
    },
    {
      "cell_type": "code",
      "execution_count": 141,
      "metadata": {
        "id": "zumv-j1ulX6s"
      },
      "outputs": [],
      "source": [
        "m_label.to_csv(\"/content/drive/MyDrive/m_label.csv\")"
      ]
    },
    {
      "cell_type": "code",
      "execution_count": 142,
      "metadata": {
        "colab": {
          "base_uri": "https://localhost:8080/"
        },
        "id": "ll4CkQ5SlX6t",
        "outputId": "56a2d2ea-1975-4a19-c2ff-0faa0887e49c"
      },
      "outputs": [
        {
          "output_type": "execute_result",
          "data": {
            "text/plain": [
              "1.0    0.544037\n",
              "0.0    0.455963\n",
              "Name: bin, dtype: float64"
            ]
          },
          "metadata": {},
          "execution_count": 142
        }
      ],
      "source": [
        "m_label['bin'].value_counts(normalize=True)"
      ]
    },
    {
      "cell_type": "code",
      "source": [
        "len(m_label)"
      ],
      "metadata": {
        "colab": {
          "base_uri": "https://localhost:8080/"
        },
        "id": "KEH34k3FVTIu",
        "outputId": "9d09a5f2-d031-40d5-cdd1-bd901b80a1a5"
      },
      "execution_count": 145,
      "outputs": [
        {
          "output_type": "execute_result",
          "data": {
            "text/plain": [
              "236668"
            ]
          },
          "metadata": {},
          "execution_count": 145
        }
      ]
    },
    {
      "cell_type": "code",
      "source": [
        "m_label = m_label[(m_label['bin'] == 0) | (m_label['bin'] == 1)]"
      ],
      "metadata": {
        "id": "o1QPcNfkVA9m"
      },
      "execution_count": 149,
      "outputs": []
    },
    {
      "cell_type": "code",
      "source": [
        "m_label"
      ],
      "metadata": {
        "colab": {
          "base_uri": "https://localhost:8080/",
          "height": 424
        },
        "id": "HIFwWKgCdHcV",
        "outputId": "9dc4308d-dd9a-4932-bf2d-8c5f7cee0de7"
      },
      "execution_count": 150,
      "outputs": [
        {
          "output_type": "execute_result",
          "data": {
            "text/plain": [
              "                          ret  bin\n",
              "2018-01-03 14:07:00  0.002068  1.0\n",
              "2018-01-03 14:10:00 -0.002959  0.0\n",
              "2018-01-03 14:53:00  0.000960  1.0\n",
              "2018-01-03 14:56:00  0.001917  1.0\n",
              "2018-01-04 09:20:00  0.003356  1.0\n",
              "...                       ...  ...\n",
              "2021-11-10 10:18:00  0.001505  1.0\n",
              "2021-11-11 10:02:00 -0.000969  0.0\n",
              "2021-11-11 10:05:00  0.001456  1.0\n",
              "2021-11-11 10:23:00 -0.001253  0.0\n",
              "2021-11-11 10:26:00  0.000766  1.0\n",
              "\n",
              "[2566 rows x 2 columns]"
            ],
            "text/html": [
              "\n",
              "  <div id=\"df-a1622411-3e24-48e3-bdc5-21d238841549\">\n",
              "    <div class=\"colab-df-container\">\n",
              "      <div>\n",
              "<style scoped>\n",
              "    .dataframe tbody tr th:only-of-type {\n",
              "        vertical-align: middle;\n",
              "    }\n",
              "\n",
              "    .dataframe tbody tr th {\n",
              "        vertical-align: top;\n",
              "    }\n",
              "\n",
              "    .dataframe thead th {\n",
              "        text-align: right;\n",
              "    }\n",
              "</style>\n",
              "<table border=\"1\" class=\"dataframe\">\n",
              "  <thead>\n",
              "    <tr style=\"text-align: right;\">\n",
              "      <th></th>\n",
              "      <th>ret</th>\n",
              "      <th>bin</th>\n",
              "    </tr>\n",
              "  </thead>\n",
              "  <tbody>\n",
              "    <tr>\n",
              "      <th>2018-01-03 14:07:00</th>\n",
              "      <td>0.002068</td>\n",
              "      <td>1.0</td>\n",
              "    </tr>\n",
              "    <tr>\n",
              "      <th>2018-01-03 14:10:00</th>\n",
              "      <td>-0.002959</td>\n",
              "      <td>0.0</td>\n",
              "    </tr>\n",
              "    <tr>\n",
              "      <th>2018-01-03 14:53:00</th>\n",
              "      <td>0.000960</td>\n",
              "      <td>1.0</td>\n",
              "    </tr>\n",
              "    <tr>\n",
              "      <th>2018-01-03 14:56:00</th>\n",
              "      <td>0.001917</td>\n",
              "      <td>1.0</td>\n",
              "    </tr>\n",
              "    <tr>\n",
              "      <th>2018-01-04 09:20:00</th>\n",
              "      <td>0.003356</td>\n",
              "      <td>1.0</td>\n",
              "    </tr>\n",
              "    <tr>\n",
              "      <th>...</th>\n",
              "      <td>...</td>\n",
              "      <td>...</td>\n",
              "    </tr>\n",
              "    <tr>\n",
              "      <th>2021-11-10 10:18:00</th>\n",
              "      <td>0.001505</td>\n",
              "      <td>1.0</td>\n",
              "    </tr>\n",
              "    <tr>\n",
              "      <th>2021-11-11 10:02:00</th>\n",
              "      <td>-0.000969</td>\n",
              "      <td>0.0</td>\n",
              "    </tr>\n",
              "    <tr>\n",
              "      <th>2021-11-11 10:05:00</th>\n",
              "      <td>0.001456</td>\n",
              "      <td>1.0</td>\n",
              "    </tr>\n",
              "    <tr>\n",
              "      <th>2021-11-11 10:23:00</th>\n",
              "      <td>-0.001253</td>\n",
              "      <td>0.0</td>\n",
              "    </tr>\n",
              "    <tr>\n",
              "      <th>2021-11-11 10:26:00</th>\n",
              "      <td>0.000766</td>\n",
              "      <td>1.0</td>\n",
              "    </tr>\n",
              "  </tbody>\n",
              "</table>\n",
              "<p>2566 rows × 2 columns</p>\n",
              "</div>\n",
              "      <button class=\"colab-df-convert\" onclick=\"convertToInteractive('df-a1622411-3e24-48e3-bdc5-21d238841549')\"\n",
              "              title=\"Convert this dataframe to an interactive table.\"\n",
              "              style=\"display:none;\">\n",
              "        \n",
              "  <svg xmlns=\"http://www.w3.org/2000/svg\" height=\"24px\"viewBox=\"0 0 24 24\"\n",
              "       width=\"24px\">\n",
              "    <path d=\"M0 0h24v24H0V0z\" fill=\"none\"/>\n",
              "    <path d=\"M18.56 5.44l.94 2.06.94-2.06 2.06-.94-2.06-.94-.94-2.06-.94 2.06-2.06.94zm-11 1L8.5 8.5l.94-2.06 2.06-.94-2.06-.94L8.5 2.5l-.94 2.06-2.06.94zm10 10l.94 2.06.94-2.06 2.06-.94-2.06-.94-.94-2.06-.94 2.06-2.06.94z\"/><path d=\"M17.41 7.96l-1.37-1.37c-.4-.4-.92-.59-1.43-.59-.52 0-1.04.2-1.43.59L10.3 9.45l-7.72 7.72c-.78.78-.78 2.05 0 2.83L4 21.41c.39.39.9.59 1.41.59.51 0 1.02-.2 1.41-.59l7.78-7.78 2.81-2.81c.8-.78.8-2.07 0-2.86zM5.41 20L4 18.59l7.72-7.72 1.47 1.35L5.41 20z\"/>\n",
              "  </svg>\n",
              "      </button>\n",
              "      \n",
              "  <style>\n",
              "    .colab-df-container {\n",
              "      display:flex;\n",
              "      flex-wrap:wrap;\n",
              "      gap: 12px;\n",
              "    }\n",
              "\n",
              "    .colab-df-convert {\n",
              "      background-color: #E8F0FE;\n",
              "      border: none;\n",
              "      border-radius: 50%;\n",
              "      cursor: pointer;\n",
              "      display: none;\n",
              "      fill: #1967D2;\n",
              "      height: 32px;\n",
              "      padding: 0 0 0 0;\n",
              "      width: 32px;\n",
              "    }\n",
              "\n",
              "    .colab-df-convert:hover {\n",
              "      background-color: #E2EBFA;\n",
              "      box-shadow: 0px 1px 2px rgba(60, 64, 67, 0.3), 0px 1px 3px 1px rgba(60, 64, 67, 0.15);\n",
              "      fill: #174EA6;\n",
              "    }\n",
              "\n",
              "    [theme=dark] .colab-df-convert {\n",
              "      background-color: #3B4455;\n",
              "      fill: #D2E3FC;\n",
              "    }\n",
              "\n",
              "    [theme=dark] .colab-df-convert:hover {\n",
              "      background-color: #434B5C;\n",
              "      box-shadow: 0px 1px 3px 1px rgba(0, 0, 0, 0.15);\n",
              "      filter: drop-shadow(0px 1px 2px rgba(0, 0, 0, 0.3));\n",
              "      fill: #FFFFFF;\n",
              "    }\n",
              "  </style>\n",
              "\n",
              "      <script>\n",
              "        const buttonEl =\n",
              "          document.querySelector('#df-a1622411-3e24-48e3-bdc5-21d238841549 button.colab-df-convert');\n",
              "        buttonEl.style.display =\n",
              "          google.colab.kernel.accessAllowed ? 'block' : 'none';\n",
              "\n",
              "        async function convertToInteractive(key) {\n",
              "          const element = document.querySelector('#df-a1622411-3e24-48e3-bdc5-21d238841549');\n",
              "          const dataTable =\n",
              "            await google.colab.kernel.invokeFunction('convertToInteractive',\n",
              "                                                     [key], {});\n",
              "          if (!dataTable) return;\n",
              "\n",
              "          const docLinkHtml = 'Like what you see? Visit the ' +\n",
              "            '<a target=\"_blank\" href=https://colab.research.google.com/notebooks/data_table.ipynb>data table notebook</a>'\n",
              "            + ' to learn more about interactive tables.';\n",
              "          element.innerHTML = '';\n",
              "          dataTable['output_type'] = 'display_data';\n",
              "          await google.colab.output.renderOutput(dataTable, element);\n",
              "          const docLink = document.createElement('div');\n",
              "          docLink.innerHTML = docLinkHtml;\n",
              "          element.appendChild(docLink);\n",
              "        }\n",
              "      </script>\n",
              "    </div>\n",
              "  </div>\n",
              "  "
            ]
          },
          "metadata": {},
          "execution_count": 150
        }
      ]
    },
    {
      "cell_type": "code",
      "source": [
        "m_label.index"
      ],
      "metadata": {
        "colab": {
          "base_uri": "https://localhost:8080/"
        },
        "id": "YNdGTWmvcOeE",
        "outputId": "21b0c073-bafb-4bb6-ef75-4191b09c9ab6"
      },
      "execution_count": 151,
      "outputs": [
        {
          "output_type": "execute_result",
          "data": {
            "text/plain": [
              "DatetimeIndex(['2018-01-03 14:07:00', '2018-01-03 14:10:00',\n",
              "               '2018-01-03 14:53:00', '2018-01-03 14:56:00',\n",
              "               '2018-01-04 09:20:00', '2018-01-04 09:23:00',\n",
              "               '2018-01-04 11:12:00', '2018-01-04 11:15:00',\n",
              "               '2018-01-04 15:19:00', '2018-01-04 15:22:00',\n",
              "               ...\n",
              "               '2021-11-09 09:28:00', '2021-11-09 09:31:00',\n",
              "               '2021-11-09 10:10:00', '2021-11-09 10:13:00',\n",
              "               '2021-11-10 10:15:00', '2021-11-10 10:18:00',\n",
              "               '2021-11-11 10:02:00', '2021-11-11 10:05:00',\n",
              "               '2021-11-11 10:23:00', '2021-11-11 10:26:00'],\n",
              "              dtype='datetime64[ns]', length=2566, freq=None)"
            ]
          },
          "metadata": {},
          "execution_count": 151
        }
      ]
    },
    {
      "cell_type": "markdown",
      "metadata": {
        "id": "PBQ53uUTlX6t"
      },
      "source": [
        "### Ensemble Method"
      ]
    },
    {
      "cell_type": "code",
      "execution_count": 152,
      "metadata": {
        "id": "oGRZ0x8clX6t"
      },
      "outputs": [],
      "source": [
        "from sklearn.ensemble import RandomForestClassifier\n",
        "from sklearn.model_selection import train_test_split\n",
        "from sklearn.metrics import roc_curve, classification_report"
      ]
    },
    {
      "cell_type": "code",
      "execution_count": 153,
      "metadata": {
        "id": "6SaDJc80lX6u"
      },
      "outputs": [],
      "source": [
        "max_depth = 3\n",
        "n_estimators = 1000\n",
        "\n",
        "# set randomforest model\n",
        "rf = RandomForestClassifier(\n",
        "    max_depth=max_depth,\n",
        "    n_estimators=n_estimators,\n",
        "    criterion='entropy',\n",
        "    class_weight=None,\n",
        "    random_state=101\n",
        ")"
      ]
    },
    {
      "cell_type": "code",
      "execution_count": 154,
      "metadata": {
        "id": "0O0_5unblX6u"
      },
      "outputs": [],
      "source": [
        "# seperate train/test data\n",
        "X = kq150_data.reindex(m_label.index)\n",
        "y = m_label['bin']\n",
        "\n",
        "X_train, X_test, y_train, y_test = train_test_split(X, y, test_size=0.3, shuffle=False)"
      ]
    },
    {
      "cell_type": "code",
      "execution_count": 155,
      "metadata": {
        "colab": {
          "base_uri": "https://localhost:8080/",
          "height": 92
        },
        "id": "vS0Im59KlX6u",
        "outputId": "e2b097dd-7b9c-4da6-a1ab-7ede65c08c66"
      },
      "outputs": [
        {
          "output_type": "execute_result",
          "data": {
            "text/plain": [
              "RandomForestClassifier(criterion='entropy', max_depth=3, n_estimators=1000,\n",
              "                       random_state=101)"
            ],
            "text/html": [
              "<style>#sk-container-id-2 {color: black;background-color: white;}#sk-container-id-2 pre{padding: 0;}#sk-container-id-2 div.sk-toggleable {background-color: white;}#sk-container-id-2 label.sk-toggleable__label {cursor: pointer;display: block;width: 100%;margin-bottom: 0;padding: 0.3em;box-sizing: border-box;text-align: center;}#sk-container-id-2 label.sk-toggleable__label-arrow:before {content: \"▸\";float: left;margin-right: 0.25em;color: #696969;}#sk-container-id-2 label.sk-toggleable__label-arrow:hover:before {color: black;}#sk-container-id-2 div.sk-estimator:hover label.sk-toggleable__label-arrow:before {color: black;}#sk-container-id-2 div.sk-toggleable__content {max-height: 0;max-width: 0;overflow: hidden;text-align: left;background-color: #f0f8ff;}#sk-container-id-2 div.sk-toggleable__content pre {margin: 0.2em;color: black;border-radius: 0.25em;background-color: #f0f8ff;}#sk-container-id-2 input.sk-toggleable__control:checked~div.sk-toggleable__content {max-height: 200px;max-width: 100%;overflow: auto;}#sk-container-id-2 input.sk-toggleable__control:checked~label.sk-toggleable__label-arrow:before {content: \"▾\";}#sk-container-id-2 div.sk-estimator input.sk-toggleable__control:checked~label.sk-toggleable__label {background-color: #d4ebff;}#sk-container-id-2 div.sk-label input.sk-toggleable__control:checked~label.sk-toggleable__label {background-color: #d4ebff;}#sk-container-id-2 input.sk-hidden--visually {border: 0;clip: rect(1px 1px 1px 1px);clip: rect(1px, 1px, 1px, 1px);height: 1px;margin: -1px;overflow: hidden;padding: 0;position: absolute;width: 1px;}#sk-container-id-2 div.sk-estimator {font-family: monospace;background-color: #f0f8ff;border: 1px dotted black;border-radius: 0.25em;box-sizing: border-box;margin-bottom: 0.5em;}#sk-container-id-2 div.sk-estimator:hover {background-color: #d4ebff;}#sk-container-id-2 div.sk-parallel-item::after {content: \"\";width: 100%;border-bottom: 1px solid gray;flex-grow: 1;}#sk-container-id-2 div.sk-label:hover label.sk-toggleable__label {background-color: #d4ebff;}#sk-container-id-2 div.sk-serial::before {content: \"\";position: absolute;border-left: 1px solid gray;box-sizing: border-box;top: 0;bottom: 0;left: 50%;z-index: 0;}#sk-container-id-2 div.sk-serial {display: flex;flex-direction: column;align-items: center;background-color: white;padding-right: 0.2em;padding-left: 0.2em;position: relative;}#sk-container-id-2 div.sk-item {position: relative;z-index: 1;}#sk-container-id-2 div.sk-parallel {display: flex;align-items: stretch;justify-content: center;background-color: white;position: relative;}#sk-container-id-2 div.sk-item::before, #sk-container-id-2 div.sk-parallel-item::before {content: \"\";position: absolute;border-left: 1px solid gray;box-sizing: border-box;top: 0;bottom: 0;left: 50%;z-index: -1;}#sk-container-id-2 div.sk-parallel-item {display: flex;flex-direction: column;z-index: 1;position: relative;background-color: white;}#sk-container-id-2 div.sk-parallel-item:first-child::after {align-self: flex-end;width: 50%;}#sk-container-id-2 div.sk-parallel-item:last-child::after {align-self: flex-start;width: 50%;}#sk-container-id-2 div.sk-parallel-item:only-child::after {width: 0;}#sk-container-id-2 div.sk-dashed-wrapped {border: 1px dashed gray;margin: 0 0.4em 0.5em 0.4em;box-sizing: border-box;padding-bottom: 0.4em;background-color: white;}#sk-container-id-2 div.sk-label label {font-family: monospace;font-weight: bold;display: inline-block;line-height: 1.2em;}#sk-container-id-2 div.sk-label-container {text-align: center;}#sk-container-id-2 div.sk-container {/* jupyter's `normalize.less` sets `[hidden] { display: none; }` but bootstrap.min.css set `[hidden] { display: none !important; }` so we also need the `!important` here to be able to override the default hidden behavior on the sphinx rendered scikit-learn.org. See: https://github.com/scikit-learn/scikit-learn/issues/21755 */display: inline-block !important;position: relative;}#sk-container-id-2 div.sk-text-repr-fallback {display: none;}</style><div id=\"sk-container-id-2\" class=\"sk-top-container\"><div class=\"sk-text-repr-fallback\"><pre>RandomForestClassifier(criterion=&#x27;entropy&#x27;, max_depth=3, n_estimators=1000,\n",
              "                       random_state=101)</pre><b>In a Jupyter environment, please rerun this cell to show the HTML representation or trust the notebook. <br />On GitHub, the HTML representation is unable to render, please try loading this page with nbviewer.org.</b></div><div class=\"sk-container\" hidden><div class=\"sk-item\"><div class=\"sk-estimator sk-toggleable\"><input class=\"sk-toggleable__control sk-hidden--visually\" id=\"sk-estimator-id-2\" type=\"checkbox\" checked><label for=\"sk-estimator-id-2\" class=\"sk-toggleable__label sk-toggleable__label-arrow\">RandomForestClassifier</label><div class=\"sk-toggleable__content\"><pre>RandomForestClassifier(criterion=&#x27;entropy&#x27;, max_depth=3, n_estimators=1000,\n",
              "                       random_state=101)</pre></div></div></div></div></div>"
            ]
          },
          "metadata": {},
          "execution_count": 155
        }
      ],
      "source": [
        "# train\n",
        "rf.fit(X_train, y_train.values.ravel())"
      ]
    },
    {
      "cell_type": "code",
      "execution_count": 157,
      "metadata": {
        "colab": {
          "base_uri": "https://localhost:8080/",
          "height": 762
        },
        "id": "LJDumVnwlX6u",
        "outputId": "0f5cf98a-fe13-4b6a-c05b-043c7d4c3efa"
      },
      "outputs": [
        {
          "output_type": "stream",
          "name": "stdout",
          "text": [
            "              precision    recall  f1-score   support\n",
            "\n",
            "         0.0       0.51      0.51      0.51       344\n",
            "         1.0       0.61      0.61      0.61       426\n",
            "\n",
            "    accuracy                           0.56       770\n",
            "   macro avg       0.56      0.56      0.56       770\n",
            "weighted avg       0.57      0.56      0.56       770\n",
            "\n"
          ]
        },
        {
          "output_type": "display_data",
          "data": {
            "text/plain": [
              "<Figure size 1700x900 with 1 Axes>"
            ],
            "image/png": "[encoded data removed]"
          },
          "metadata": {}
        }
      ],
      "source": [
        "# predict\n",
        "y_prob = rf.predict_proba(X_test)[:, 1]\n",
        "# print(y_prob)\n",
        "y_pred = rf.predict(X_test)\n",
        "# print(y_pred)\n",
        "\n",
        "rFP, rTP, thresholds = roc_curve(y_test, y_prob)\n",
        "print(classification_report(y_test, y_pred))\n",
        "      \n",
        "plt.figure(1)\n",
        "plt.plot([0, 1], [0, 1], 'k--')\n",
        "plt.plot(rFP, rTP, label='RF')\n",
        "plt.xlabel('False positive rate')\n",
        "plt.ylabel('True positive rate')\n",
        "plt.title('ROC curve')\n",
        "plt.legend(loc='best')\n",
        "plt.show()"
      ]
    },
    {
      "cell_type": "code",
      "source": [],
      "metadata": {
        "id": "_eqgbELGtN_E"
      },
      "execution_count": null,
      "outputs": []
    }
  ],
  "metadata": {
    "kernelspec": {
      "display_name": "Python 3",
      "language": "python",
      "name": "python3"
    },
    "language_info": {
      "codemirror_mode": {
        "name": "ipython",
        "version": 3
      },
      "file_extension": ".py",
      "mimetype": "text/x-python",
      "name": "python",
      "nbconvert_exporter": "python",
      "pygments_lexer": "ipython3",
      "version": "3.8.2"
    },
    "orig_nbformat": 4,
    "colab": {
      "provenance": [],
      "include_colab_link": true
    }
  },
  "nbformat": 4,
  "nbformat_minor": 0
}
