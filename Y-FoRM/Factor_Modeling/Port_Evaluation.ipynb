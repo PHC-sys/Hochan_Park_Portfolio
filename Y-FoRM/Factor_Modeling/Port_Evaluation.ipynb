{
 "cells": [
  {
   "cell_type": "code",
   "execution_count": null,
   "metadata": {},
   "outputs": [],
   "source": [
    "# 패키지 설치\n",
    "!pip install yfinance --quiet"
   ]
  },
  {
   "cell_type": "code",
   "execution_count": null,
   "metadata": {},
   "outputs": [],
   "source": [
    "# 패키지 임포트\n",
    "import numpy as np\n",
    "import pandas as pd\n",
    "import matplotlib.pyplot as plt\n",
    "import yfinance as yf"
   ]
  },
  {
   "cell_type": "code",
   "execution_count": null,
   "metadata": {},
   "outputs": [],
   "source": [
    "# ETF 데이터 다운로드\n",
    "data = yf.download('SPY TLT', start='2010-01-01')\n",
    "data.drop(['Open', 'High', 'Low', 'Close', 'Volume'], inplace=True, axis=1)\n",
    "data = data.droplevel(0, axis=1)\n",
    "rets = data.pct_change().fillna(0)"
   ]
  },
  {
   "cell_type": "code",
   "execution_count": null,
   "metadata": {},
   "outputs": [],
   "source": [
    "rets.cumsum().plot()"
   ]
  },
  {
   "attachments": {},
   "cell_type": "markdown",
   "metadata": {},
   "source": [
    "# 성과지표"
   ]
  },
  {
   "attachments": {},
   "cell_type": "markdown",
   "metadata": {},
   "source": [
    "# 1. Sharpe Ratio\n",
    "\n",
    "$$ SR = \\frac{μ_{p} - r_{f}}{σ_{p}} $$\n",
    "\n",
    "   $\\mu_{p}$ : 포트폴리오의 평균수익률\n",
    "   \n",
    "   $r_{f}$ : 무위험수익률 (0으로 가정)\n",
    "   \n",
    "   $σ_{p}$ : 포트폴리오의 변동성 (표준편차)\n",
    "\n",
    "   평균 수익률 & 변동성 지표 시간 척도 통일해줄 것"
   ]
  },
  {
   "cell_type": "code",
   "execution_count": null,
   "metadata": {},
   "outputs": [],
   "source": [
    "# 샤프비율 계산\n",
    "sharpe_ratio = rets.mean() * np.sqrt(252) / rets.std()\n",
    "spy_sharpe_ratio = sharpe_ratio[0]\n",
    "tlt_sharpe_ratio = sharpe_ratio[1]\n",
    "\n",
    "print(spy_sharpe_ratio)\n",
    "print(tlt_sharpe_ratio)"
   ]
  },
  {
   "cell_type": "code",
   "execution_count": null,
   "metadata": {},
   "outputs": [],
   "source": [
    "# 1년 롤링 샤프비율 계산\n",
    "lookback = 252 # 1년 주식 거래 일수\n",
    "rolling_sharpe_ratio = rets.rolling(lookback).mean() * np.sqrt(252) / rets.rolling(lookback).std()\n",
    "\n",
    "spy_rolling_sharpe = rolling_sharpe_ratio['SPY']\n",
    "tlt_rolling_sharpe = rolling_sharpe_ratio['TLT']\n",
    "print(spy_rolling_sharpe)\n",
    "print(tlt_rolling_sharpe)"
   ]
  },
  {
   "cell_type": "code",
   "execution_count": null,
   "metadata": {},
   "outputs": [],
   "source": [
    "# 샤프비율 시각화\n",
    "plt.figure(figsize=(15, 8))\n",
    "spy_rolling_sharpe.plot(label='SPY={}'.format(np.round(spy_sharpe_ratio, 2)))\n",
    "tlt_rolling_sharpe.plot(label='TLT={}'.format(np.round(tlt_sharpe_ratio, 2)))\n",
    "plt.axhline(spy_sharpe_ratio, color='g', linestyle='dashed', linewidth=2)\n",
    "plt.axhline(tlt_sharpe_ratio, color='r', linestyle='dashed', linewidth=2)\n",
    "plt.legend()\n",
    "plt.title('Historical Sharpe Ratio')\n",
    "plt.xlabel('Date')\n",
    "plt.ylabel('1-Year Rolling Sharpe Ratio')"
   ]
  },
  {
   "attachments": {},
   "cell_type": "markdown",
   "metadata": {},
   "source": [
    "# 2. VaR 대비 성과 비율\n",
    "\n",
    "$$ VaR Ratio = -\\frac{\\mu_{p} - r_{f}}{N * VaR_{δ, p}} $$\n",
    "\n",
    "주의할 점\n",
    "1. VaR을 마이너스로 계산하는 경우가 있기 때문에 지표를 양수로 만들기 위해서는 마이너스를 붙여주어야 함 \n",
    "2. 평균 수익률과 VaR의 기간값 통일.\n",
    "    > 평균 수익률이 연단위로 되어있으면, VaR 값에 N 곱해서 연율화\n"
   ]
  },
  {
   "cell_type": "code",
   "execution_count": null,
   "metadata": {},
   "outputs": [],
   "source": [
    "# 각 ETF의 수익률 데이터\n",
    "spy_rets = rets['SPY']\n",
    "tlt_rets = rets['TLT']\n",
    "\n",
    "# VaR 계산\n",
    "delta = 0.01\n",
    "spy_VaR = spy_rets.quantile(delta)\n",
    "tlt_VaR = tlt_rets.quantile(delta)\n",
    "spy_VaR, tlt_VaR"
   ]
  },
  {
   "cell_type": "code",
   "execution_count": null,
   "metadata": {},
   "outputs": [],
   "source": [
    "# VaR 대비 성과 비율 계산\n",
    "spy_VaR_ratio = - spy_rets.mean() / spy_VaR # 둘 다 일단위로 되어있으니 N 곱할 필요 x\n",
    "tlt_VaR_ratio = - tlt_rets.mean() / tlt_VaR"
   ]
  },
  {
   "cell_type": "code",
   "execution_count": null,
   "metadata": {},
   "outputs": [],
   "source": [
    "print(spy_VaR_ratio)\n",
    "print(tlt_VaR_ratio)"
   ]
  },
  {
   "cell_type": "code",
   "execution_count": null,
   "metadata": {},
   "outputs": [],
   "source": [
    "# 1년 롤링 VaR 대비 성과 비율 계산\n",
    "spy_rolling_VaR_ratio = spy_rets.rolling(lookback).mean() / - spy_rets.rolling(lookback).quantile(delta)\n",
    "tlt_rolling_VaR_ratio = tlt_rets.rolling(lookback).mean() / - tlt_rets.rolling(lookback).quantile(delta)"
   ]
  },
  {
   "cell_type": "code",
   "execution_count": null,
   "metadata": {},
   "outputs": [],
   "source": [
    "# VaR 대비 성과 비율 시각화\n",
    "plt.figure(figsize=(15, 8))\n",
    "spy_rolling_VaR_ratio.plot(label='SPY={}'.format(np.round(spy_VaR_ratio, 2)))\n",
    "tlt_rolling_VaR_ratio.plot(label='TLT={}'.format(np.round(tlt_VaR_ratio, 2)))\n",
    "plt.axhline(spy_VaR_ratio, color='g', linestyle='dashed', linewidth=2)\n",
    "plt.axhline(tlt_VaR_ratio, color='r', linestyle='dashed', linewidth=2)\n",
    "plt.legend()\n",
    "plt.xlabel('Date')\n",
    "plt.ylabel('1-Year Rolling VaR Ratio')\n",
    "plt.title('Historical Reward-to-VaR Ratio')"
   ]
  },
  {
   "attachments": {},
   "cell_type": "markdown",
   "metadata": {},
   "source": [
    "# 3. CVaR 대비 성과 비율 (Conditional VaR)\n",
    "\n",
    "$$ CVaR Ratio = -\\frac{μ_{p} - r_{f}}{CVaR_{δ, p}} $$"
   ]
  },
  {
   "cell_type": "code",
   "execution_count": null,
   "metadata": {},
   "outputs": [],
   "source": [
    "def calculate_CVaR(rets, delta=0.01):\n",
    "    VaR = rets.quantile(delta)\n",
    "    return rets[rets <= VaR].mean()"
   ]
  },
  {
   "cell_type": "code",
   "execution_count": null,
   "metadata": {},
   "outputs": [],
   "source": [
    "# CVaR 계산\n",
    "spy_CVaR = calculate_CVaR(spy_rets)\n",
    "tlt_CVaR = calculate_CVaR(tlt_rets)\n",
    "\n",
    "# CVaR 대비 성과 비율 계산\n",
    "spy_CVaR_ratio = spy_rets.mean() / -spy_CVaR\n",
    "tlt_CVaR_ratio = tlt_rets.mean() / -tlt_CVaR\n",
    "\n",
    "print(spy_CVaR_ratio)\n",
    "print(tlt_CVaR_ratio)"
   ]
  },
  {
   "cell_type": "code",
   "execution_count": null,
   "metadata": {},
   "outputs": [],
   "source": [
    "# 1년 롤링 CVaR 대비 성과 비율 계산\n",
    "spy_rolling_CVaR_ratio = spy_rets.rolling(lookback).mean() / -spy_rets.rolling(lookback).apply(calculate_CVaR)\n",
    "tlt_rolling_CVaR_ratio = tlt_rets.rolling(lookback).mean() / -tlt_rets.rolling(lookback).apply(calculate_CVaR)"
   ]
  },
  {
   "cell_type": "code",
   "execution_count": null,
   "metadata": {},
   "outputs": [],
   "source": [
    "# CVaR 대비 성과 비율 시각화\n",
    "plt.figure(figsize=(15, 8))\n",
    "spy_rolling_CVaR_ratio.plot(label='SPY={}'.format(np.round(spy_CVaR, 2)))\n",
    "tlt_rolling_CVaR_ratio.plot(label='TLT={}'.format(np.round(tlt_CVaR, 2)))\n",
    "plt.axhline(spy_CVaR_ratio, color='g', linestyle='dashed', linewidth=2)\n",
    "plt.axhline(tlt_CVaR_ratio, color='r', linestyle='dashed', linewidth=2)\n",
    "plt.legend()\n",
    "plt.xlabel('Date')\n",
    "plt.ylabel('1-Year Rolling CVaR Ratio')\n",
    "plt.title('Historical Reward-to-CVaR Ratio')"
   ]
  },
  {
   "attachments": {},
   "cell_type": "markdown",
   "metadata": {},
   "source": [
    "# 4. 승률(Hit Ratio)과 손익비(Gain-to-Pain Ratio)\n",
    "\n",
    "승률\n",
    "$$ HR = \\frac{Σ_{i=1}^{N}1_{\\{r_{i}>0\\}}}{N} $$\n",
    "\n",
    "손익비: 손실과 이익의 비율\n",
    "\n",
    "$$ GPR = -\\frac{Σ_{i=1}^{N}max(r_{i}, 0)}{Σ_{i=1}^{N}min(r_{i}, 0)} $$\n",
    "'이겼을 때 얼마나 크게 이겼고, 졌을 때 얼마나 크게 졌는가'\n",
    "\n",
    "손실은 음수기 때문에 마이너스 붙여서 지표 양수로 만들어줄 것.\n",
    "\n",
    "\n",
    "# 5. 확률적 우위\n",
    "\n",
    "확률적 우위가 존재하기 위한 조건\n",
    "$$ GPR > \\frac{1 - HR}{HR} $$\n",
    "\n",
    "ex. \n",
    "매매를 2번해서 1번 성공하고 1번 실패를 했는데, 성공했을 때 이익이 손해보다 크면 잘한거지 그치\n",
    "\n",
    "근데 이제 매매 2번 성공하고 1번 실패했는데, 하필 그 실패가 도지인거임. 그러면 매매를 계속해도 되는걸까 아니겠지 그치\n",
    "\n",
    "확률적 우위가 존재하는 전략을 써야 장기적으로 손해를 안 본다."
   ]
  },
  {
   "cell_type": "code",
   "execution_count": null,
   "metadata": {},
   "outputs": [],
   "source": [
    "# 승률 계산 함수\n",
    "def calculate_hit_ratio(rets):\n",
    "    return len(rets[rets > 0.0]) / len(rets[rets != 0.0])"
   ]
  },
  {
   "cell_type": "code",
   "execution_count": null,
   "metadata": {},
   "outputs": [],
   "source": [
    "# 승률 계산\n",
    "spy_hit_ratio = calculate_hit_ratio(spy_rets)\n",
    "tlt_hit_ratio = calculate_hit_ratio(tlt_rets)\n",
    "\n",
    "print(spy_hit_ratio)\n",
    "print(tlt_hit_ratio)"
   ]
  },
  {
   "cell_type": "code",
   "execution_count": null,
   "metadata": {},
   "outputs": [],
   "source": [
    "# 롤링 승률 계산\n",
    "spy_rolling_hit_ratio = spy_rets.rolling(252).apply(calculate_hit_ratio)\n",
    "tlt_rolling_hit_ratio = tlt_rets.rolling(252).apply(calculate_hit_ratio)"
   ]
  },
  {
   "cell_type": "code",
   "execution_count": null,
   "metadata": {},
   "outputs": [],
   "source": [
    "# 승률 시각화\n",
    "plt.figure(figsize=(15, 5))\n",
    "spy_rolling_hit_ratio.plot(label='SPY={}'.format(np.round(spy_hit_ratio, 2)))\n",
    "tlt_rolling_hit_ratio.plot(label='TLT={}'.format(np.round(tlt_hit_ratio, 2)))\n",
    "plt.axhline(spy_hit_ratio, color='g', linestyle='dashed', linewidth=2)\n",
    "plt.axhline(tlt_hit_ratio, color='r', linestyle='dashed', linewidth=2)\n",
    "plt.legend()\n",
    "plt.xlabel('Date')\n",
    "plt.ylabel('1-Year Rolling Hit Ratio')\n",
    "plt.title('Historical Hit Ratio')"
   ]
  },
  {
   "cell_type": "code",
   "execution_count": null,
   "metadata": {},
   "outputs": [],
   "source": [
    "# 손익비 계산 함수\n",
    "def calculate_gtp_ratio(rets):\n",
    "    return rets[rets > 0.0].mean() / -rets[rets < 0.0].mean()"
   ]
  },
  {
   "cell_type": "code",
   "execution_count": null,
   "metadata": {},
   "outputs": [],
   "source": [
    "# 손익비 계산\n",
    "spy_gtp_ratio = calculate_gtp_ratio(spy_rets)\n",
    "tlt_gtp_ratio = calculate_gtp_ratio(tlt_rets)\n",
    "\n",
    "print(spy_gtp_ratio)\n",
    "print(tlt_gtp_ratio)"
   ]
  },
  {
   "cell_type": "code",
   "execution_count": null,
   "metadata": {},
   "outputs": [],
   "source": [
    "# 롤링 손익비 계산\n",
    "spy_rolling_gtp_ratio = spy_rets.rolling(252).apply(calculate_gtp_ratio)\n",
    "tlt_rolling_gtp_ratio = tlt_rets.rolling(252).apply(calculate_gtp_ratio)"
   ]
  },
  {
   "cell_type": "code",
   "execution_count": null,
   "metadata": {},
   "outputs": [],
   "source": [
    "# 손익비 시각화\n",
    "plt.figure(figsize=(15, 5))\n",
    "spy_rolling_gtp_ratio.plot(label='SPY={}'.format(np.round(spy_gtp_ratio, 2)))\n",
    "tlt_rolling_gtp_ratio.plot(label='TLT={}'.format(np.round(tlt_gtp_ratio, 2)))\n",
    "plt.axhline(spy_gtp_ratio, color='g', linestyle='dashed', linewidth=2)\n",
    "plt.axhline(tlt_gtp_ratio, color='r', linestyle='dashed', linewidth=2)\n",
    "plt.legend()\n",
    "plt.xlabel('Date')\n",
    "plt.ylabel('1-Year Rolling Gain-to-Pain Ratio')\n",
    "plt.title('Historical Gain-to-Pain Ratio')"
   ]
  },
  {
   "cell_type": "code",
   "execution_count": null,
   "metadata": {},
   "outputs": [],
   "source": [
    "# SPY 확률적 우위 검증\n",
    "spy_TE = spy_gtp_ratio > (1 - spy_hit_ratio) / spy_hit_ratio\n",
    "print(spy_TE)"
   ]
  },
  {
   "cell_type": "code",
   "execution_count": null,
   "metadata": {},
   "outputs": [],
   "source": [
    "# TLT 확률적 우위 검증\n",
    "tlt_TE = tlt_gtp_ratio > (1 - tlt_hit_ratio) / tlt_hit_ratio\n",
    "print(tlt_TE)"
   ]
  },
  {
   "attachments": {},
   "cell_type": "markdown",
   "metadata": {},
   "source": [
    "# 팩터간 상관계수 분석"
   ]
  },
  {
   "cell_type": "code",
   "execution_count": null,
   "metadata": {},
   "outputs": [],
   "source": [
    "import seaborn as sns\n",
    "import pickle\n",
    "import itertools as it\n",
    "sns.set()"
   ]
  },
  {
   "cell_type": "code",
   "execution_count": null,
   "metadata": {},
   "outputs": [],
   "source": [
    "# 데이터 로드\n",
    "with open('factor.pkl', 'rb') as f:\n",
    "    df = pickle.load(f)"
   ]
  },
  {
   "cell_type": "code",
   "execution_count": null,
   "metadata": {},
   "outputs": [],
   "source": [
    "# 팩터 수익률 데이터프레임\n",
    "factor_df = df.iloc[:, 5:]"
   ]
  },
  {
   "cell_type": "code",
   "execution_count": null,
   "metadata": {},
   "outputs": [],
   "source": [
    "factor_df"
   ]
  },
  {
   "cell_type": "code",
   "execution_count": null,
   "metadata": {},
   "outputs": [],
   "source": [
    "# 팩터별 누적 수익률 시각화\n",
    "factor_df.cumsum().plot(legend=True, figsize=(12, 6), label=factor_df.columns)"
   ]
  },
  {
   "cell_type": "code",
   "execution_count": null,
   "metadata": {},
   "outputs": [],
   "source": [
    "# 상관계수 행렬\n",
    "corr = factor_df.corr()\n",
    "\n",
    "# 상관계수 히트맵\n",
    "plt.figure(figsize=(12, 8))\n",
    "sns.heatmap(np.round(corr, 2), annot=True)"
   ]
  },
  {
   "cell_type": "code",
   "execution_count": null,
   "metadata": {},
   "outputs": [],
   "source": [
    "# 팩터별 데이터프레임\n",
    "beta_df = factor_df.iloc[:, :4]\n",
    "momentum_df = factor_df.iloc[:, 4:8]\n",
    "value_df = factor_df.iloc[:, 8:12]\n",
    "carry_df = factor_df.iloc[:, 12:]\n",
    "\n",
    "# 팩터별 포트폴리오\n",
    "beta_port = beta_df.mean(axis=1)\n",
    "momentum_port = momentum_df.mean(axis=1)\n",
    "value_port = value_df.mean(axis=1)\n",
    "carry_port = carry_df.mean(axis=1)\n",
    "\n",
    "# 팩터별 포트폴리오 백테스팅 결과 시각화\n",
    "plt.figure(figsize=(12, 6))\n",
    "beta_port.cumsum().plot(label='Beta')\n",
    "momentum_port.cumsum().plot(label='Momentum')\n",
    "value_port.cumsum().plot(label='Value')\n",
    "carry_port.cumsum().plot(label='Carry')\n",
    "plt.legend()\n",
    "plt.show()"
   ]
  },
  {
   "cell_type": "code",
   "execution_count": null,
   "metadata": {},
   "outputs": [],
   "source": [
    "# 팩터 포트폴리오 수익률 분포 분석\n",
    "factor_port_df = pd.concat([beta_port, momentum_port, value_port, carry_port], axis=1, join='inner')\n",
    "factor_port_df.columns = ['beta', 'momentum', 'value', 'carry']\n",
    "\n",
    "# 팩터 포트폴리오 왜도\n",
    "print('Skew')\n",
    "print(factor_port_df.skew())\n",
    "\n",
    "# 팩터 포트폴리오 첨도\n",
    "print('\\n')\n",
    "print('Kurtosis')\n",
    "print(factor_port_df.kurt())"
   ]
  },
  {
   "cell_type": "code",
   "execution_count": null,
   "metadata": {},
   "outputs": [],
   "source": [
    "# 자산배분 vs. 팩터배분\n",
    "factor_port = factor_df.mean(axis=1)\n",
    "\n",
    "# 그래프\n",
    "plt.figure(figsize=(12, 6))\n",
    "factor_port.cumsum().plot(label='Factor Portfolio')\n",
    "beta_port.cumsum().plot(label='Beta Portfolio')\n",
    "plt.legend()\n",
    "plt.show()"
   ]
  },
  {
   "cell_type": "code",
   "execution_count": null,
   "metadata": {},
   "outputs": [],
   "source": [
    "# 팩터 포트폴리오간 상관계수 히트맵\n",
    "sns.heatmap(factor_port_df.corr(), annot=True)"
   ]
  },
  {
   "cell_type": "code",
   "execution_count": null,
   "metadata": {},
   "outputs": [],
   "source": [
    "# 롤링 상관계수\n",
    "cols = factor_port_df.columns\n",
    "col_pairs = list(it.combinations(cols, 2))\n",
    "\n",
    "lookback = 12 * 5\n",
    "res = pd.DataFrame()\n",
    "\n",
    "for pair in col_pairs:\n",
    "    corr_name = f\"{pair[0]}_{pair[1]}\"\n",
    "    res[corr_name] = factor_port_df[pair[0]].rolling(lookback).corr(factor_port_df[pair[1]])\n",
    "\n",
    "res.plot(figsize=(12, 8))\n",
    "res.mean(axis=1).plot(lw=5)"
   ]
  },
  {
   "cell_type": "code",
   "execution_count": null,
   "metadata": {},
   "outputs": [],
   "source": []
  }
 ],
 "metadata": {
  "kernelspec": {
   "display_name": "Python 3",
   "language": "python",
   "name": "python3"
  },
  "language_info": {
   "codemirror_mode": {
    "name": "ipython",
    "version": 3
   },
   "file_extension": ".py",
   "mimetype": "text/x-python",
   "name": "python",
   "nbconvert_exporter": "python",
   "pygments_lexer": "ipython3",
   "version": "3.11.1"
  },
  "orig_nbformat": 4
 },
 "nbformat": 4,
 "nbformat_minor": 2
}
